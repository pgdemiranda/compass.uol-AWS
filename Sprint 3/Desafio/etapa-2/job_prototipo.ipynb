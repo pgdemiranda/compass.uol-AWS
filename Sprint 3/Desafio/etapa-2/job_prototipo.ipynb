{
 "cells": [
  {
   "cell_type": "markdown",
   "id": "fb7ea245",
   "metadata": {},
   "source": [
    "# Desafio Etapa-2"
   ]
  },
  {
   "cell_type": "markdown",
   "id": "782ea841",
   "metadata": {},
   "source": [
    "## Bibliotecas"
   ]
  },
  {
   "cell_type": "code",
   "execution_count": 1,
   "id": "3f18cd9e",
   "metadata": {},
   "outputs": [],
   "source": [
    "import pandas as pd\n",
    "import matplotlib.pyplot as plt\n",
    "import seaborn as sns"
   ]
  },
  {
   "cell_type": "markdown",
   "id": "fab7648a",
   "metadata": {},
   "source": [
    "## Dataset"
   ]
  },
  {
   "cell_type": "code",
   "execution_count": 2,
   "id": "c1f24679",
   "metadata": {},
   "outputs": [],
   "source": [
    "df = pd.read_csv(\"../etapa-1/csv_limpo.csv\")"
   ]
  },
  {
   "cell_type": "code",
   "execution_count": 3,
   "id": "f32f3142",
   "metadata": {},
   "outputs": [
    {
     "data": {
      "text/html": [
       "<div>\n",
       "<style scoped>\n",
       "    .dataframe tbody tr th:only-of-type {\n",
       "        vertical-align: middle;\n",
       "    }\n",
       "\n",
       "    .dataframe tbody tr th {\n",
       "        vertical-align: top;\n",
       "    }\n",
       "\n",
       "    .dataframe thead th {\n",
       "        text-align: right;\n",
       "    }\n",
       "</style>\n",
       "<table border=\"1\" class=\"dataframe\">\n",
       "  <thead>\n",
       "    <tr style=\"text-align: right;\">\n",
       "      <th></th>\n",
       "      <th>Rank</th>\n",
       "      <th>Actual gross</th>\n",
       "      <th>Adjusted gross (in 2022 dollars)</th>\n",
       "      <th>Artist</th>\n",
       "      <th>Tour title</th>\n",
       "      <th>Shows</th>\n",
       "      <th>Average gross</th>\n",
       "      <th>Start year</th>\n",
       "      <th>End year</th>\n",
       "    </tr>\n",
       "  </thead>\n",
       "  <tbody>\n",
       "    <tr>\n",
       "      <th>0</th>\n",
       "      <td>1</td>\n",
       "      <td>780000000.0</td>\n",
       "      <td>780000000.0</td>\n",
       "      <td>Taylor Swift</td>\n",
       "      <td>The Eras Tour</td>\n",
       "      <td>56</td>\n",
       "      <td>13928571.0</td>\n",
       "      <td>2023</td>\n",
       "      <td>2024</td>\n",
       "    </tr>\n",
       "    <tr>\n",
       "      <th>1</th>\n",
       "      <td>2</td>\n",
       "      <td>579800000.0</td>\n",
       "      <td>579800000.0</td>\n",
       "      <td>Beyoncé</td>\n",
       "      <td>Renaissance World Tour</td>\n",
       "      <td>56</td>\n",
       "      <td>10353571.0</td>\n",
       "      <td>2023</td>\n",
       "      <td>2023</td>\n",
       "    </tr>\n",
       "    <tr>\n",
       "      <th>2</th>\n",
       "      <td>3</td>\n",
       "      <td>411000000.0</td>\n",
       "      <td>560622615.0</td>\n",
       "      <td>Madonna</td>\n",
       "      <td>Sticky Sweet Tour</td>\n",
       "      <td>85</td>\n",
       "      <td>4835294.0</td>\n",
       "      <td>2008</td>\n",
       "      <td>2009</td>\n",
       "    </tr>\n",
       "    <tr>\n",
       "      <th>3</th>\n",
       "      <td>4</td>\n",
       "      <td>397300000.0</td>\n",
       "      <td>454751555.0</td>\n",
       "      <td>Pink</td>\n",
       "      <td>Beautiful Trauma World Tour</td>\n",
       "      <td>156</td>\n",
       "      <td>2546795.0</td>\n",
       "      <td>2018</td>\n",
       "      <td>2019</td>\n",
       "    </tr>\n",
       "    <tr>\n",
       "      <th>4</th>\n",
       "      <td>5</td>\n",
       "      <td>345675146.0</td>\n",
       "      <td>402844849.0</td>\n",
       "      <td>Taylor Swift</td>\n",
       "      <td>Reputation Stadium Tour</td>\n",
       "      <td>53</td>\n",
       "      <td>6522173.0</td>\n",
       "      <td>2018</td>\n",
       "      <td>2018</td>\n",
       "    </tr>\n",
       "    <tr>\n",
       "      <th>5</th>\n",
       "      <td>6</td>\n",
       "      <td>305158363.0</td>\n",
       "      <td>388978496.0</td>\n",
       "      <td>Madonna</td>\n",
       "      <td>The MDNA Tour</td>\n",
       "      <td>88</td>\n",
       "      <td>3467709.0</td>\n",
       "      <td>2012</td>\n",
       "      <td>2012</td>\n",
       "    </tr>\n",
       "    <tr>\n",
       "      <th>6</th>\n",
       "      <td>7</td>\n",
       "      <td>280000000.0</td>\n",
       "      <td>381932682.0</td>\n",
       "      <td>Celine Dion</td>\n",
       "      <td>Taking Chances World Tour</td>\n",
       "      <td>131</td>\n",
       "      <td>2137405.0</td>\n",
       "      <td>2008</td>\n",
       "      <td>2009</td>\n",
       "    </tr>\n",
       "    <tr>\n",
       "      <th>7</th>\n",
       "      <td>8</td>\n",
       "      <td>257600000.0</td>\n",
       "      <td>257600000.0</td>\n",
       "      <td>Pink</td>\n",
       "      <td>Summer Carnival</td>\n",
       "      <td>41</td>\n",
       "      <td>6282927.0</td>\n",
       "      <td>2023</td>\n",
       "      <td>2024</td>\n",
       "    </tr>\n",
       "    <tr>\n",
       "      <th>8</th>\n",
       "      <td>9</td>\n",
       "      <td>256084556.0</td>\n",
       "      <td>312258401.0</td>\n",
       "      <td>Beyoncé</td>\n",
       "      <td>The Formation World Tour</td>\n",
       "      <td>49</td>\n",
       "      <td>5226215.0</td>\n",
       "      <td>2016</td>\n",
       "      <td>2016</td>\n",
       "    </tr>\n",
       "    <tr>\n",
       "      <th>9</th>\n",
       "      <td>10</td>\n",
       "      <td>250400000.0</td>\n",
       "      <td>309141878.0</td>\n",
       "      <td>Taylor Swift</td>\n",
       "      <td>The 1989 World Tour</td>\n",
       "      <td>85</td>\n",
       "      <td>2945882.0</td>\n",
       "      <td>2015</td>\n",
       "      <td>2015</td>\n",
       "    </tr>\n",
       "    <tr>\n",
       "      <th>10</th>\n",
       "      <td>11</td>\n",
       "      <td>229100000.0</td>\n",
       "      <td>283202896.0</td>\n",
       "      <td>Beyoncé</td>\n",
       "      <td>The Mrs Carter Show World Tour</td>\n",
       "      <td>132</td>\n",
       "      <td>1735606.0</td>\n",
       "      <td>2013</td>\n",
       "      <td>2014</td>\n",
       "    </tr>\n",
       "    <tr>\n",
       "      <th>11</th>\n",
       "      <td>12</td>\n",
       "      <td>227400000.0</td>\n",
       "      <td>295301479.0</td>\n",
       "      <td>Lady Gaga</td>\n",
       "      <td>The Monster Ball Tour</td>\n",
       "      <td>203</td>\n",
       "      <td>1118227.0</td>\n",
       "      <td>2009</td>\n",
       "      <td>2011</td>\n",
       "    </tr>\n",
       "    <tr>\n",
       "      <th>12</th>\n",
       "      <td>13</td>\n",
       "      <td>204000000.0</td>\n",
       "      <td>251856802.0</td>\n",
       "      <td>Katy Perry</td>\n",
       "      <td>Prismatic World Tour</td>\n",
       "      <td>151</td>\n",
       "      <td>1350993.0</td>\n",
       "      <td>2014</td>\n",
       "      <td>2015</td>\n",
       "    </tr>\n",
       "    <tr>\n",
       "      <th>13</th>\n",
       "      <td>14</td>\n",
       "      <td>200000000.0</td>\n",
       "      <td>299676265.0</td>\n",
       "      <td>Cher</td>\n",
       "      <td>Living Proof The Farewell Tour</td>\n",
       "      <td>325</td>\n",
       "      <td>615385.0</td>\n",
       "      <td>2002</td>\n",
       "      <td>2005</td>\n",
       "    </tr>\n",
       "    <tr>\n",
       "      <th>14</th>\n",
       "      <td>15</td>\n",
       "      <td>194000000.0</td>\n",
       "      <td>281617035.0</td>\n",
       "      <td>Madonna</td>\n",
       "      <td>Confessions Tour</td>\n",
       "      <td>60</td>\n",
       "      <td>3233333.0</td>\n",
       "      <td>2006</td>\n",
       "      <td>2006</td>\n",
       "    </tr>\n",
       "    <tr>\n",
       "      <th>15</th>\n",
       "      <td>16</td>\n",
       "      <td>184000000.0</td>\n",
       "      <td>227452347.0</td>\n",
       "      <td>Pink</td>\n",
       "      <td>The Truth About Love Tour</td>\n",
       "      <td>142</td>\n",
       "      <td>1295775.0</td>\n",
       "      <td>2013</td>\n",
       "      <td>2014</td>\n",
       "    </tr>\n",
       "    <tr>\n",
       "      <th>16</th>\n",
       "      <td>17</td>\n",
       "      <td>170000000.0</td>\n",
       "      <td>213568571.0</td>\n",
       "      <td>Lady Gaga</td>\n",
       "      <td>Born This Way Ball</td>\n",
       "      <td>98</td>\n",
       "      <td>1734694.0</td>\n",
       "      <td>2012</td>\n",
       "      <td>2013</td>\n",
       "    </tr>\n",
       "    <tr>\n",
       "      <th>17</th>\n",
       "      <td>18</td>\n",
       "      <td>169800000.0</td>\n",
       "      <td>207046755.0</td>\n",
       "      <td>Madonna</td>\n",
       "      <td>Rebel Heart Tour</td>\n",
       "      <td>82</td>\n",
       "      <td>2070732.0</td>\n",
       "      <td>2015</td>\n",
       "      <td>2016</td>\n",
       "    </tr>\n",
       "    <tr>\n",
       "      <th>18</th>\n",
       "      <td>19</td>\n",
       "      <td>167700000.0</td>\n",
       "      <td>204486106.0</td>\n",
       "      <td>Adele</td>\n",
       "      <td>Adele Live 2016</td>\n",
       "      <td>121</td>\n",
       "      <td>1385950.0</td>\n",
       "      <td>2016</td>\n",
       "      <td>2017</td>\n",
       "    </tr>\n",
       "    <tr>\n",
       "      <th>19</th>\n",
       "      <td>20</td>\n",
       "      <td>150000000.0</td>\n",
       "      <td>185423109.0</td>\n",
       "      <td>Taylor Swift</td>\n",
       "      <td>The Red Tour</td>\n",
       "      <td>86</td>\n",
       "      <td>1744186.0</td>\n",
       "      <td>2013</td>\n",
       "      <td>2014</td>\n",
       "    </tr>\n",
       "  </tbody>\n",
       "</table>\n",
       "</div>"
      ],
      "text/plain": [
       "    Rank  Actual gross  Adjusted gross (in 2022 dollars)        Artist  \\\n",
       "0      1   780000000.0                       780000000.0  Taylor Swift   \n",
       "1      2   579800000.0                       579800000.0       Beyoncé   \n",
       "2      3   411000000.0                       560622615.0       Madonna   \n",
       "3      4   397300000.0                       454751555.0          Pink   \n",
       "4      5   345675146.0                       402844849.0  Taylor Swift   \n",
       "5      6   305158363.0                       388978496.0       Madonna   \n",
       "6      7   280000000.0                       381932682.0   Celine Dion   \n",
       "7      8   257600000.0                       257600000.0          Pink   \n",
       "8      9   256084556.0                       312258401.0       Beyoncé   \n",
       "9     10   250400000.0                       309141878.0  Taylor Swift   \n",
       "10    11   229100000.0                       283202896.0       Beyoncé   \n",
       "11    12   227400000.0                       295301479.0     Lady Gaga   \n",
       "12    13   204000000.0                       251856802.0    Katy Perry   \n",
       "13    14   200000000.0                       299676265.0          Cher   \n",
       "14    15   194000000.0                       281617035.0       Madonna   \n",
       "15    16   184000000.0                       227452347.0          Pink   \n",
       "16    17   170000000.0                       213568571.0     Lady Gaga   \n",
       "17    18   169800000.0                       207046755.0       Madonna   \n",
       "18    19   167700000.0                       204486106.0         Adele   \n",
       "19    20   150000000.0                       185423109.0  Taylor Swift   \n",
       "\n",
       "                        Tour title  Shows  Average gross  Start year  End year  \n",
       "0                    The Eras Tour     56     13928571.0        2023      2024  \n",
       "1           Renaissance World Tour     56     10353571.0        2023      2023  \n",
       "2                Sticky Sweet Tour     85      4835294.0        2008      2009  \n",
       "3      Beautiful Trauma World Tour    156      2546795.0        2018      2019  \n",
       "4          Reputation Stadium Tour     53      6522173.0        2018      2018  \n",
       "5                    The MDNA Tour     88      3467709.0        2012      2012  \n",
       "6        Taking Chances World Tour    131      2137405.0        2008      2009  \n",
       "7                  Summer Carnival     41      6282927.0        2023      2024  \n",
       "8         The Formation World Tour     49      5226215.0        2016      2016  \n",
       "9              The 1989 World Tour     85      2945882.0        2015      2015  \n",
       "10  The Mrs Carter Show World Tour    132      1735606.0        2013      2014  \n",
       "11           The Monster Ball Tour    203      1118227.0        2009      2011  \n",
       "12            Prismatic World Tour    151      1350993.0        2014      2015  \n",
       "13  Living Proof The Farewell Tour    325       615385.0        2002      2005  \n",
       "14                Confessions Tour     60      3233333.0        2006      2006  \n",
       "15       The Truth About Love Tour    142      1295775.0        2013      2014  \n",
       "16              Born This Way Ball     98      1734694.0        2012      2013  \n",
       "17                Rebel Heart Tour     82      2070732.0        2015      2016  \n",
       "18                 Adele Live 2016    121      1385950.0        2016      2017  \n",
       "19                    The Red Tour     86      1744186.0        2013      2014  "
      ]
     },
     "execution_count": 3,
     "metadata": {},
     "output_type": "execute_result"
    }
   ],
   "source": [
    "df"
   ]
  },
  {
   "cell_type": "markdown",
   "id": "c7c29974",
   "metadata": {},
   "source": [
    "## Questões"
   ]
  },
  {
   "cell_type": "markdown",
   "id": "1d114411",
   "metadata": {},
   "source": [
    "### Q1 - Qual é a artista que mais aparece nessa lista e possui a maior média de seu faturamento bruto (Actual gross)?\n",
    "\n",
    "Fizemos de duas maneiras, utilizando a função `mean` e calculando a média manualmente. A resolução foi feita pegando o valor máximo de aparições das artistas na coluna 'Artist', somando os valores brutos adquiridos em cada turnê, que foram registrados na coluna 'Actual gross', e dividido pelo número de turnês de cada artista (que é essencialmente o que a função `mean` está fazendo junto a função `groupby`.)"
   ]
  },
  {
   "cell_type": "markdown",
   "id": "71a15404",
   "metadata": {},
   "source": [
    "Com a ajuda da função `mean`"
   ]
  },
  {
   "cell_type": "code",
   "execution_count": 4,
   "id": "b3158939",
   "metadata": {},
   "outputs": [
    {
     "data": {
      "text/html": [
       "<div>\n",
       "<style scoped>\n",
       "    .dataframe tbody tr th:only-of-type {\n",
       "        vertical-align: middle;\n",
       "    }\n",
       "\n",
       "    .dataframe tbody tr th {\n",
       "        vertical-align: top;\n",
       "    }\n",
       "\n",
       "    .dataframe thead th {\n",
       "        text-align: right;\n",
       "    }\n",
       "</style>\n",
       "<table border=\"1\" class=\"dataframe\">\n",
       "  <thead>\n",
       "    <tr style=\"text-align: right;\">\n",
       "      <th></th>\n",
       "      <th>Artist</th>\n",
       "      <th>Actual gross</th>\n",
       "    </tr>\n",
       "  </thead>\n",
       "  <tbody>\n",
       "    <tr>\n",
       "      <th>1</th>\n",
       "      <td>Taylor Swift</td>\n",
       "      <td>381518786.5</td>\n",
       "    </tr>\n",
       "  </tbody>\n",
       "</table>\n",
       "</div>"
      ],
      "text/plain": [
       "         Artist  Actual gross\n",
       "1  Taylor Swift   381518786.5"
      ]
     },
     "execution_count": 4,
     "metadata": {},
     "output_type": "execute_result"
    }
   ],
   "source": [
    "q1_aux = df.groupby('Artist').filter(lambda x: len(x) == df['Artist'].value_counts().max())\n",
    "q1_aux2 = q1_aux.groupby('Artist')['Actual gross'].mean().reset_index()\n",
    "q1 = q1_aux2.sort_values('Actual gross', ascending=False).head(1)\n",
    "\n",
    "q1"
   ]
  },
  {
   "cell_type": "markdown",
   "id": "acd6ff4a",
   "metadata": {},
   "source": [
    "Calculando manualmente"
   ]
  },
  {
   "cell_type": "code",
   "execution_count": 5,
   "id": "9acc40f1",
   "metadata": {},
   "outputs": [
    {
     "data": {
      "text/html": [
       "<div>\n",
       "<style scoped>\n",
       "    .dataframe tbody tr th:only-of-type {\n",
       "        vertical-align: middle;\n",
       "    }\n",
       "\n",
       "    .dataframe tbody tr th {\n",
       "        vertical-align: top;\n",
       "    }\n",
       "\n",
       "    .dataframe thead th {\n",
       "        text-align: right;\n",
       "    }\n",
       "</style>\n",
       "<table border=\"1\" class=\"dataframe\">\n",
       "  <thead>\n",
       "    <tr style=\"text-align: right;\">\n",
       "      <th></th>\n",
       "      <th>Artist</th>\n",
       "      <th>media</th>\n",
       "    </tr>\n",
       "  </thead>\n",
       "  <tbody>\n",
       "    <tr>\n",
       "      <th>1</th>\n",
       "      <td>Taylor Swift</td>\n",
       "      <td>381518786.5</td>\n",
       "    </tr>\n",
       "  </tbody>\n",
       "</table>\n",
       "</div>"
      ],
      "text/plain": [
       "         Artist        media\n",
       "1  Taylor Swift  381518786.5"
      ]
     },
     "execution_count": 5,
     "metadata": {},
     "output_type": "execute_result"
    }
   ],
   "source": [
    "q1_aux2 = q1_aux.groupby('Artist').agg(total_gross=('Actual gross', 'sum'), turnes=('Actual gross', 'count')).reset_index()\n",
    "q1_aux2['media'] = q1_aux2['total_gross'] / q1_aux2['turnes']\n",
    "q1 = q1_aux2.sort_values('media', ascending=False).head(1).drop(columns=['total_gross', 'turnes'])\n",
    "\n",
    "q1"
   ]
  },
  {
   "cell_type": "markdown",
   "id": "638dff90",
   "metadata": {},
   "source": [
    "encadeamento"
   ]
  },
  {
   "cell_type": "code",
   "execution_count": 6,
   "id": "f6a3d456",
   "metadata": {},
   "outputs": [
    {
     "data": {
      "text/plain": [
       "'Taylor Swift'"
      ]
     },
     "execution_count": 6,
     "metadata": {},
     "output_type": "execute_result"
    }
   ],
   "source": [
    "q1 = (\n",
    "    df.groupby('Artist')\n",
    "    .filter(lambda x: len(x) == df['Artist'].value_counts().max())\n",
    "    .groupby('Artist')['Actual gross']\n",
    "    .mean()\n",
    "    .reset_index()\n",
    "    .sort_values('Actual gross', ascending=False)\n",
    "    .head(1)\n",
    "    .iloc[0]['Artist']\n",
    ")\n",
    "\n",
    "q1"
   ]
  },
  {
   "cell_type": "markdown",
   "id": "6298a1d5",
   "metadata": {},
   "source": [
    "### Q2 - Das turnês que aconteceram dentro de um ano, qual a turnê com a maior média de faturamento bruto (Average Gross)\n",
    "\n",
    "Separamos as turnês que aconteceram dentro de um ano igualando as colunas de **'Start year'** e **'End year'** e usamos a função `nlargest` para pegar o maior valor da coluna **'Average gross'**, e por último selecionamos o valor da coluna **'Tour title'**."
   ]
  },
  {
   "cell_type": "code",
   "execution_count": 7,
   "id": "1858d394",
   "metadata": {},
   "outputs": [
    {
     "data": {
      "text/plain": [
       "1    Renaissance World Tour\n",
       "Name: Tour title, dtype: object"
      ]
     },
     "execution_count": 7,
     "metadata": {},
     "output_type": "execute_result"
    }
   ],
   "source": [
    "# q2_aux = df[df['Start year'] == df['End year']]\n",
    "q2 = df.query('`Start year` == `End year`').nlargest(1, 'Average gross')\n",
    "\n",
    "q2['Tour title']"
   ]
  },
  {
   "cell_type": "markdown",
   "id": "680214b8",
   "metadata": {},
   "source": [
    "encadeamento"
   ]
  },
  {
   "cell_type": "code",
   "execution_count": 8,
   "id": "9975a740",
   "metadata": {},
   "outputs": [
    {
     "data": {
      "text/plain": [
       "'Renaissance World Tour'"
      ]
     },
     "execution_count": 8,
     "metadata": {},
     "output_type": "execute_result"
    }
   ],
   "source": [
    "q2 = (\n",
    "    df[df['Start year'] == df['End year']]\n",
    "    .nlargest(1, 'Average gross')\n",
    "    .iloc[0]['Tour title']\n",
    ")\n",
    "\n",
    "q2"
   ]
  },
  {
   "cell_type": "markdown",
   "id": "3fffc3b8",
   "metadata": {},
   "source": [
    "### Q3 - Quais são as 3 turnês que possuem o show (unitário) mais lucrativo? Cite também o nome de cada artista e o valor por show. Utilize a coluna \"Adjusted gross (in 2022 dollars)\". Caso necessário, crie uma coluna nova para essa conta.\n",
    "\n",
    "Foi criada uma nova coluna chamada **'show_unitario\"** calculada à partir da divisão da coluna **'Adjusted gross (in 2022 dollars)'** pela coluna **'Shows'**, em seguida os valores resultantes foram organizados em ordem decrescente e foram separados os top 3 casos. renomeamos a coluna **'show_unitario'** para **'Show unitario'** (não conseguimos fazer direto porque a função `assign` não havia aceitado esse nome separado ou entre aspas). Resetamos o index apenas para a criação do novo dataframe."
   ]
  },
  {
   "cell_type": "code",
   "execution_count": 9,
   "id": "04b49bd8",
   "metadata": {},
   "outputs": [
    {
     "data": {
      "text/html": [
       "<div>\n",
       "<style scoped>\n",
       "    .dataframe tbody tr th:only-of-type {\n",
       "        vertical-align: middle;\n",
       "    }\n",
       "\n",
       "    .dataframe tbody tr th {\n",
       "        vertical-align: top;\n",
       "    }\n",
       "\n",
       "    .dataframe thead th {\n",
       "        text-align: right;\n",
       "    }\n",
       "</style>\n",
       "<table border=\"1\" class=\"dataframe\">\n",
       "  <thead>\n",
       "    <tr style=\"text-align: right;\">\n",
       "      <th></th>\n",
       "      <th>Tour title</th>\n",
       "      <th>Artist</th>\n",
       "      <th>Show unitario</th>\n",
       "    </tr>\n",
       "  </thead>\n",
       "  <tbody>\n",
       "    <tr>\n",
       "      <th>0</th>\n",
       "      <td>The Eras Tour</td>\n",
       "      <td>Taylor Swift</td>\n",
       "      <td>1.392857e+07</td>\n",
       "    </tr>\n",
       "    <tr>\n",
       "      <th>1</th>\n",
       "      <td>Renaissance World Tour</td>\n",
       "      <td>Beyoncé</td>\n",
       "      <td>1.035357e+07</td>\n",
       "    </tr>\n",
       "    <tr>\n",
       "      <th>4</th>\n",
       "      <td>Reputation Stadium Tour</td>\n",
       "      <td>Taylor Swift</td>\n",
       "      <td>7.600846e+06</td>\n",
       "    </tr>\n",
       "  </tbody>\n",
       "</table>\n",
       "</div>"
      ],
      "text/plain": [
       "                Tour title        Artist  Show unitario\n",
       "0            The Eras Tour  Taylor Swift   1.392857e+07\n",
       "1   Renaissance World Tour       Beyoncé   1.035357e+07\n",
       "4  Reputation Stadium Tour  Taylor Swift   7.600846e+06"
      ]
     },
     "execution_count": 9,
     "metadata": {},
     "output_type": "execute_result"
    }
   ],
   "source": [
    "df['Show unitario'] = df['Adjusted gross (in 2022 dollars)'] / df['Shows']\n",
    "q3_aux = df.sort_values('Show unitario', ascending=False).head(3)\n",
    "q3_aux_2 = q3_aux[['Tour title', 'Artist', 'Show unitario']]\n",
    "\n",
    "q3_aux_2"
   ]
  },
  {
   "cell_type": "markdown",
   "id": "87f1c962",
   "metadata": {},
   "source": [
    "encadeamento"
   ]
  },
  {
   "cell_type": "code",
   "execution_count": 10,
   "id": "9122a4fb",
   "metadata": {},
   "outputs": [
    {
     "data": {
      "text/html": [
       "<div>\n",
       "<style scoped>\n",
       "    .dataframe tbody tr th:only-of-type {\n",
       "        vertical-align: middle;\n",
       "    }\n",
       "\n",
       "    .dataframe tbody tr th {\n",
       "        vertical-align: top;\n",
       "    }\n",
       "\n",
       "    .dataframe thead th {\n",
       "        text-align: right;\n",
       "    }\n",
       "</style>\n",
       "<table border=\"1\" class=\"dataframe\">\n",
       "  <thead>\n",
       "    <tr style=\"text-align: right;\">\n",
       "      <th></th>\n",
       "      <th>Artist</th>\n",
       "      <th>Tour title</th>\n",
       "      <th>Show unitario</th>\n",
       "    </tr>\n",
       "  </thead>\n",
       "  <tbody>\n",
       "    <tr>\n",
       "      <th>0</th>\n",
       "      <td>Taylor Swift</td>\n",
       "      <td>The Eras Tour</td>\n",
       "      <td>1.392857e+07</td>\n",
       "    </tr>\n",
       "    <tr>\n",
       "      <th>1</th>\n",
       "      <td>Beyoncé</td>\n",
       "      <td>Renaissance World Tour</td>\n",
       "      <td>1.035357e+07</td>\n",
       "    </tr>\n",
       "    <tr>\n",
       "      <th>2</th>\n",
       "      <td>Taylor Swift</td>\n",
       "      <td>Reputation Stadium Tour</td>\n",
       "      <td>7.600846e+06</td>\n",
       "    </tr>\n",
       "  </tbody>\n",
       "</table>\n",
       "</div>"
      ],
      "text/plain": [
       "         Artist               Tour title  Show unitario\n",
       "0  Taylor Swift            The Eras Tour   1.392857e+07\n",
       "1       Beyoncé   Renaissance World Tour   1.035357e+07\n",
       "2  Taylor Swift  Reputation Stadium Tour   7.600846e+06"
      ]
     },
     "execution_count": 10,
     "metadata": {},
     "output_type": "execute_result"
    }
   ],
   "source": [
    "q3 = (\n",
    "    df.assign(show_unitario = df['Adjusted gross (in 2022 dollars)'] / df['Shows'])\n",
    "    .sort_values('show_unitario', ascending=False)\n",
    "    .head(3)\n",
    "    [['Artist', 'Tour title', 'show_unitario']]\n",
    "    .rename(columns={'show_unitario': 'Show unitario'})\n",
    "    .reset_index(drop=True)\n",
    ")\n",
    "\n",
    "q3"
   ]
  },
  {
   "cell_type": "markdown",
   "id": "838684b8",
   "metadata": {},
   "source": [
    "### Q4 - Para a artista que mais aparece nessa lista e que tenha o maior somatório de faturamento bruto, crie um gráfico de linhas que mostra o faturamento por ano da turnê (use a coluna Start Year). Apenas os anos com turnês.\n",
    "\n",
    "Como já sabíamos de antemão quem era a arista com o maior somatório de faturamento bruto, selecionamos ela para fazer uma comparação com o nosso código. Caso a nossa tabela seja atualizada e outra artista venha a ser aquela que mais aparece na lista e que tenha o maior somatório de faturamento bruto, nosso código **PRECISA** capturar essa mudança. Para isso filtramos com uma função lambda e as funções `value_counts` e `max` (que pegou o valor máximo da contagem de valores filtrados na coluna **'Artist'**) os artistas que mais aparecem na lista. O gráfico requisitado para a questão foi um gráfico de linha plotado com a função `lineplot` da biblioteca seaborn e as funções de matplotlib para ajustar o título, os eixos x e y, usamos a função `gca` para ajustar os valores do eixo y de forma que fique mais legível e em dólares americanos."
   ]
  },
  {
   "cell_type": "code",
   "execution_count": 11,
   "id": "42e1a4e7",
   "metadata": {},
   "outputs": [
    {
     "data": {
      "text/html": [
       "<div>\n",
       "<style scoped>\n",
       "    .dataframe tbody tr th:only-of-type {\n",
       "        vertical-align: middle;\n",
       "    }\n",
       "\n",
       "    .dataframe tbody tr th {\n",
       "        vertical-align: top;\n",
       "    }\n",
       "\n",
       "    .dataframe thead th {\n",
       "        text-align: right;\n",
       "    }\n",
       "</style>\n",
       "<table border=\"1\" class=\"dataframe\">\n",
       "  <thead>\n",
       "    <tr style=\"text-align: right;\">\n",
       "      <th></th>\n",
       "      <th>Rank</th>\n",
       "      <th>Actual gross</th>\n",
       "      <th>Adjusted gross (in 2022 dollars)</th>\n",
       "      <th>Artist</th>\n",
       "      <th>Tour title</th>\n",
       "      <th>Shows</th>\n",
       "      <th>Average gross</th>\n",
       "      <th>Start year</th>\n",
       "      <th>End year</th>\n",
       "      <th>Show unitario</th>\n",
       "    </tr>\n",
       "  </thead>\n",
       "  <tbody>\n",
       "    <tr>\n",
       "      <th>0</th>\n",
       "      <td>1</td>\n",
       "      <td>780000000.0</td>\n",
       "      <td>780000000.0</td>\n",
       "      <td>Taylor Swift</td>\n",
       "      <td>The Eras Tour</td>\n",
       "      <td>56</td>\n",
       "      <td>13928571.0</td>\n",
       "      <td>2023</td>\n",
       "      <td>2024</td>\n",
       "      <td>1.392857e+07</td>\n",
       "    </tr>\n",
       "    <tr>\n",
       "      <th>4</th>\n",
       "      <td>5</td>\n",
       "      <td>345675146.0</td>\n",
       "      <td>402844849.0</td>\n",
       "      <td>Taylor Swift</td>\n",
       "      <td>Reputation Stadium Tour</td>\n",
       "      <td>53</td>\n",
       "      <td>6522173.0</td>\n",
       "      <td>2018</td>\n",
       "      <td>2018</td>\n",
       "      <td>7.600846e+06</td>\n",
       "    </tr>\n",
       "    <tr>\n",
       "      <th>9</th>\n",
       "      <td>10</td>\n",
       "      <td>250400000.0</td>\n",
       "      <td>309141878.0</td>\n",
       "      <td>Taylor Swift</td>\n",
       "      <td>The 1989 World Tour</td>\n",
       "      <td>85</td>\n",
       "      <td>2945882.0</td>\n",
       "      <td>2015</td>\n",
       "      <td>2015</td>\n",
       "      <td>3.636963e+06</td>\n",
       "    </tr>\n",
       "    <tr>\n",
       "      <th>19</th>\n",
       "      <td>20</td>\n",
       "      <td>150000000.0</td>\n",
       "      <td>185423109.0</td>\n",
       "      <td>Taylor Swift</td>\n",
       "      <td>The Red Tour</td>\n",
       "      <td>86</td>\n",
       "      <td>1744186.0</td>\n",
       "      <td>2013</td>\n",
       "      <td>2014</td>\n",
       "      <td>2.156083e+06</td>\n",
       "    </tr>\n",
       "  </tbody>\n",
       "</table>\n",
       "</div>"
      ],
      "text/plain": [
       "    Rank  Actual gross  Adjusted gross (in 2022 dollars)        Artist  \\\n",
       "0      1   780000000.0                       780000000.0  Taylor Swift   \n",
       "4      5   345675146.0                       402844849.0  Taylor Swift   \n",
       "9     10   250400000.0                       309141878.0  Taylor Swift   \n",
       "19    20   150000000.0                       185423109.0  Taylor Swift   \n",
       "\n",
       "                 Tour title  Shows  Average gross  Start year  End year  \\\n",
       "0             The Eras Tour     56     13928571.0        2023      2024   \n",
       "4   Reputation Stadium Tour     53      6522173.0        2018      2018   \n",
       "9       The 1989 World Tour     85      2945882.0        2015      2015   \n",
       "19             The Red Tour     86      1744186.0        2013      2014   \n",
       "\n",
       "    Show unitario  \n",
       "0    1.392857e+07  \n",
       "4    7.600846e+06  \n",
       "9    3.636963e+06  \n",
       "19   2.156083e+06  "
      ]
     },
     "execution_count": 11,
     "metadata": {},
     "output_type": "execute_result"
    }
   ],
   "source": [
    "df.loc[df['Artist'] == 'Taylor Swift']"
   ]
  },
  {
   "cell_type": "code",
   "execution_count": 12,
   "id": "c1e397a5",
   "metadata": {},
   "outputs": [
    {
     "data": {
      "text/html": [
       "<div>\n",
       "<style scoped>\n",
       "    .dataframe tbody tr th:only-of-type {\n",
       "        vertical-align: middle;\n",
       "    }\n",
       "\n",
       "    .dataframe tbody tr th {\n",
       "        vertical-align: top;\n",
       "    }\n",
       "\n",
       "    .dataframe thead th {\n",
       "        text-align: right;\n",
       "    }\n",
       "</style>\n",
       "<table border=\"1\" class=\"dataframe\">\n",
       "  <thead>\n",
       "    <tr style=\"text-align: right;\">\n",
       "      <th></th>\n",
       "      <th>Rank</th>\n",
       "      <th>Actual gross</th>\n",
       "      <th>Adjusted gross (in 2022 dollars)</th>\n",
       "      <th>Artist</th>\n",
       "      <th>Tour title</th>\n",
       "      <th>Shows</th>\n",
       "      <th>Average gross</th>\n",
       "      <th>Start year</th>\n",
       "      <th>End year</th>\n",
       "      <th>Show unitario</th>\n",
       "    </tr>\n",
       "  </thead>\n",
       "  <tbody>\n",
       "    <tr>\n",
       "      <th>0</th>\n",
       "      <td>1</td>\n",
       "      <td>780000000.0</td>\n",
       "      <td>780000000.0</td>\n",
       "      <td>Taylor Swift</td>\n",
       "      <td>The Eras Tour</td>\n",
       "      <td>56</td>\n",
       "      <td>13928571.0</td>\n",
       "      <td>2023</td>\n",
       "      <td>2024</td>\n",
       "      <td>1.392857e+07</td>\n",
       "    </tr>\n",
       "    <tr>\n",
       "      <th>4</th>\n",
       "      <td>5</td>\n",
       "      <td>345675146.0</td>\n",
       "      <td>402844849.0</td>\n",
       "      <td>Taylor Swift</td>\n",
       "      <td>Reputation Stadium Tour</td>\n",
       "      <td>53</td>\n",
       "      <td>6522173.0</td>\n",
       "      <td>2018</td>\n",
       "      <td>2018</td>\n",
       "      <td>7.600846e+06</td>\n",
       "    </tr>\n",
       "    <tr>\n",
       "      <th>9</th>\n",
       "      <td>10</td>\n",
       "      <td>250400000.0</td>\n",
       "      <td>309141878.0</td>\n",
       "      <td>Taylor Swift</td>\n",
       "      <td>The 1989 World Tour</td>\n",
       "      <td>85</td>\n",
       "      <td>2945882.0</td>\n",
       "      <td>2015</td>\n",
       "      <td>2015</td>\n",
       "      <td>3.636963e+06</td>\n",
       "    </tr>\n",
       "    <tr>\n",
       "      <th>19</th>\n",
       "      <td>20</td>\n",
       "      <td>150000000.0</td>\n",
       "      <td>185423109.0</td>\n",
       "      <td>Taylor Swift</td>\n",
       "      <td>The Red Tour</td>\n",
       "      <td>86</td>\n",
       "      <td>1744186.0</td>\n",
       "      <td>2013</td>\n",
       "      <td>2014</td>\n",
       "      <td>2.156083e+06</td>\n",
       "    </tr>\n",
       "  </tbody>\n",
       "</table>\n",
       "</div>"
      ],
      "text/plain": [
       "    Rank  Actual gross  Adjusted gross (in 2022 dollars)        Artist  \\\n",
       "0      1   780000000.0                       780000000.0  Taylor Swift   \n",
       "4      5   345675146.0                       402844849.0  Taylor Swift   \n",
       "9     10   250400000.0                       309141878.0  Taylor Swift   \n",
       "19    20   150000000.0                       185423109.0  Taylor Swift   \n",
       "\n",
       "                 Tour title  Shows  Average gross  Start year  End year  \\\n",
       "0             The Eras Tour     56     13928571.0        2023      2024   \n",
       "4   Reputation Stadium Tour     53      6522173.0        2018      2018   \n",
       "9       The 1989 World Tour     85      2945882.0        2015      2015   \n",
       "19             The Red Tour     86      1744186.0        2013      2014   \n",
       "\n",
       "    Show unitario  \n",
       "0    1.392857e+07  \n",
       "4    7.600846e+06  \n",
       "9    3.636963e+06  \n",
       "19   2.156083e+06  "
      ]
     },
     "execution_count": 12,
     "metadata": {},
     "output_type": "execute_result"
    }
   ],
   "source": [
    "q4_aux = df.groupby('Artist').filter(lambda x: len(x) == df['Artist'].value_counts().max())\n",
    "q4_aux2 = q4_aux.groupby('Artist')['Actual gross'].sum().idxmax()\n",
    "q4 = df[df['Artist'] == q4_aux2]\n",
    "\n",
    "q4"
   ]
  },
  {
   "cell_type": "markdown",
   "id": "9c129323",
   "metadata": {},
   "source": [
    "Encadeamento"
   ]
  },
  {
   "cell_type": "code",
   "execution_count": 13,
   "id": "8138212f",
   "metadata": {},
   "outputs": [
    {
     "data": {
      "text/html": [
       "<div>\n",
       "<style scoped>\n",
       "    .dataframe tbody tr th:only-of-type {\n",
       "        vertical-align: middle;\n",
       "    }\n",
       "\n",
       "    .dataframe tbody tr th {\n",
       "        vertical-align: top;\n",
       "    }\n",
       "\n",
       "    .dataframe thead th {\n",
       "        text-align: right;\n",
       "    }\n",
       "</style>\n",
       "<table border=\"1\" class=\"dataframe\">\n",
       "  <thead>\n",
       "    <tr style=\"text-align: right;\">\n",
       "      <th></th>\n",
       "      <th>Rank</th>\n",
       "      <th>Actual gross</th>\n",
       "      <th>Adjusted gross (in 2022 dollars)</th>\n",
       "      <th>Artist</th>\n",
       "      <th>Tour title</th>\n",
       "      <th>Shows</th>\n",
       "      <th>Average gross</th>\n",
       "      <th>Start year</th>\n",
       "      <th>End year</th>\n",
       "      <th>Show unitario</th>\n",
       "    </tr>\n",
       "  </thead>\n",
       "  <tbody>\n",
       "    <tr>\n",
       "      <th>0</th>\n",
       "      <td>1</td>\n",
       "      <td>780000000.0</td>\n",
       "      <td>780000000.0</td>\n",
       "      <td>Taylor Swift</td>\n",
       "      <td>The Eras Tour</td>\n",
       "      <td>56</td>\n",
       "      <td>13928571.0</td>\n",
       "      <td>2023</td>\n",
       "      <td>2024</td>\n",
       "      <td>1.392857e+07</td>\n",
       "    </tr>\n",
       "    <tr>\n",
       "      <th>4</th>\n",
       "      <td>5</td>\n",
       "      <td>345675146.0</td>\n",
       "      <td>402844849.0</td>\n",
       "      <td>Taylor Swift</td>\n",
       "      <td>Reputation Stadium Tour</td>\n",
       "      <td>53</td>\n",
       "      <td>6522173.0</td>\n",
       "      <td>2018</td>\n",
       "      <td>2018</td>\n",
       "      <td>7.600846e+06</td>\n",
       "    </tr>\n",
       "    <tr>\n",
       "      <th>9</th>\n",
       "      <td>10</td>\n",
       "      <td>250400000.0</td>\n",
       "      <td>309141878.0</td>\n",
       "      <td>Taylor Swift</td>\n",
       "      <td>The 1989 World Tour</td>\n",
       "      <td>85</td>\n",
       "      <td>2945882.0</td>\n",
       "      <td>2015</td>\n",
       "      <td>2015</td>\n",
       "      <td>3.636963e+06</td>\n",
       "    </tr>\n",
       "    <tr>\n",
       "      <th>19</th>\n",
       "      <td>20</td>\n",
       "      <td>150000000.0</td>\n",
       "      <td>185423109.0</td>\n",
       "      <td>Taylor Swift</td>\n",
       "      <td>The Red Tour</td>\n",
       "      <td>86</td>\n",
       "      <td>1744186.0</td>\n",
       "      <td>2013</td>\n",
       "      <td>2014</td>\n",
       "      <td>2.156083e+06</td>\n",
       "    </tr>\n",
       "  </tbody>\n",
       "</table>\n",
       "</div>"
      ],
      "text/plain": [
       "    Rank  Actual gross  Adjusted gross (in 2022 dollars)        Artist  \\\n",
       "0      1   780000000.0                       780000000.0  Taylor Swift   \n",
       "4      5   345675146.0                       402844849.0  Taylor Swift   \n",
       "9     10   250400000.0                       309141878.0  Taylor Swift   \n",
       "19    20   150000000.0                       185423109.0  Taylor Swift   \n",
       "\n",
       "                 Tour title  Shows  Average gross  Start year  End year  \\\n",
       "0             The Eras Tour     56     13928571.0        2023      2024   \n",
       "4   Reputation Stadium Tour     53      6522173.0        2018      2018   \n",
       "9       The 1989 World Tour     85      2945882.0        2015      2015   \n",
       "19             The Red Tour     86      1744186.0        2013      2014   \n",
       "\n",
       "    Show unitario  \n",
       "0    1.392857e+07  \n",
       "4    7.600846e+06  \n",
       "9    3.636963e+06  \n",
       "19   2.156083e+06  "
      ]
     },
     "execution_count": 13,
     "metadata": {},
     "output_type": "execute_result"
    }
   ],
   "source": [
    "q4 = (\n",
    "    df\n",
    "    .groupby('Artist')\n",
    "    .filter(lambda x: len(x) == df['Artist'].value_counts().max())\n",
    "    .groupby('Artist')['Actual gross']\n",
    "    .sum()\n",
    "    .pipe(lambda x: df[df['Artist'] == x.idxmax()])\n",
    ")\n",
    "\n",
    "q4"
   ]
  },
  {
   "cell_type": "markdown",
   "id": "99f8e73c",
   "metadata": {},
   "source": [
    "gráfico de linha"
   ]
  },
  {
   "cell_type": "code",
   "execution_count": 14,
   "id": "b077ef56",
   "metadata": {},
   "outputs": [
    {
     "data": {
      "image/png": "[encoded data removed]",
      "text/plain": [
       "<Figure size 1400x800 with 1 Axes>"
      ]
     },
     "metadata": {},
     "output_type": "display_data"
    }
   ],
   "source": [
    "plt.figure(figsize=(14, 8))\n",
    "\n",
    "sns.lineplot(data=q4, x='Start year', y='Actual gross', marker='o')\n",
    "plt.title(f'Faturamento Bruto por Início de Tour da artista \"{q4[\"Artist\"].iloc[0]}\"')\n",
    "plt.xlabel('Ano de Início da Tour')\n",
    "plt.ylabel('Faturamento Bruto em Dólares')\n",
    "plt.gca().yaxis.set_major_formatter('${x:,.0f}')\n",
    "\n",
    "plt.show()"
   ]
  },
  {
   "cell_type": "markdown",
   "id": "d5bb0dfb",
   "metadata": {},
   "source": [
    "### Q5 - Faça um gráfico de colunas demonstrando as 5 artistas com mais shows na lista.\n",
    "\n",
    "Simplesmente agrupamos o shows por artistas, organizamos os valores por ordem ascendente e guardamos apenas as top 5 artistas com mais shows realizados. Plotamos um gráfico em barras horizontais com a função `barplot` do seaborn e ajustamos o título, os eixos x e y com as funções do matplotlib."
   ]
  },
  {
   "cell_type": "code",
   "execution_count": 15,
   "id": "02799c3b",
   "metadata": {},
   "outputs": [
    {
     "data": {
      "text/plain": [
       "Artist\n",
       "Pink            339\n",
       "Cher            325\n",
       "Madonna         315\n",
       "Lady Gaga       301\n",
       "Taylor Swift    280\n",
       "Name: Shows, dtype: int64"
      ]
     },
     "execution_count": 15,
     "metadata": {},
     "output_type": "execute_result"
    }
   ],
   "source": [
    "q5_aux = df.groupby('Artist')['Shows'].sum().sort_values(ascending=False)\n",
    "q5 = q5_aux.head(5)\n",
    "q5"
   ]
  },
  {
   "cell_type": "markdown",
   "id": "e2358a91",
   "metadata": {},
   "source": [
    "Encadeamento"
   ]
  },
  {
   "cell_type": "code",
   "execution_count": 16,
   "id": "1fb9c890",
   "metadata": {},
   "outputs": [
    {
     "data": {
      "text/html": [
       "<div>\n",
       "<style scoped>\n",
       "    .dataframe tbody tr th:only-of-type {\n",
       "        vertical-align: middle;\n",
       "    }\n",
       "\n",
       "    .dataframe tbody tr th {\n",
       "        vertical-align: top;\n",
       "    }\n",
       "\n",
       "    .dataframe thead th {\n",
       "        text-align: right;\n",
       "    }\n",
       "</style>\n",
       "<table border=\"1\" class=\"dataframe\">\n",
       "  <thead>\n",
       "    <tr style=\"text-align: right;\">\n",
       "      <th></th>\n",
       "      <th>Artist</th>\n",
       "      <th>Shows</th>\n",
       "    </tr>\n",
       "  </thead>\n",
       "  <tbody>\n",
       "    <tr>\n",
       "      <th>0</th>\n",
       "      <td>Pink</td>\n",
       "      <td>339</td>\n",
       "    </tr>\n",
       "    <tr>\n",
       "      <th>1</th>\n",
       "      <td>Cher</td>\n",
       "      <td>325</td>\n",
       "    </tr>\n",
       "    <tr>\n",
       "      <th>2</th>\n",
       "      <td>Madonna</td>\n",
       "      <td>315</td>\n",
       "    </tr>\n",
       "    <tr>\n",
       "      <th>3</th>\n",
       "      <td>Lady Gaga</td>\n",
       "      <td>301</td>\n",
       "    </tr>\n",
       "    <tr>\n",
       "      <th>4</th>\n",
       "      <td>Taylor Swift</td>\n",
       "      <td>280</td>\n",
       "    </tr>\n",
       "  </tbody>\n",
       "</table>\n",
       "</div>"
      ],
      "text/plain": [
       "         Artist  Shows\n",
       "0          Pink    339\n",
       "1          Cher    325\n",
       "2       Madonna    315\n",
       "3     Lady Gaga    301\n",
       "4  Taylor Swift    280"
      ]
     },
     "execution_count": 16,
     "metadata": {},
     "output_type": "execute_result"
    }
   ],
   "source": [
    "q5 = (\n",
    "    df\n",
    "    .groupby('Artist')['Shows']\n",
    "    .sum()\n",
    "    .sort_values(ascending=False)\n",
    "    .head(5)\n",
    "    .reset_index()\n",
    ")\n",
    "\n",
    "q5"
   ]
  },
  {
   "cell_type": "markdown",
   "id": "09f8a293",
   "metadata": {},
   "source": [
    "gráfico de barras horizontais"
   ]
  },
  {
   "cell_type": "code",
   "execution_count": 17,
   "id": "580b0427",
   "metadata": {},
   "outputs": [
    {
     "data": {
      "image/png": "[encoded data removed]",
      "text/plain": [
       "<Figure size 1400x800 with 1 Axes>"
      ]
     },
     "metadata": {},
     "output_type": "display_data"
    }
   ],
   "source": [
    "plt.figure(figsize=(14, 8))\n",
    "\n",
    "sns.barplot(data=q5, x='Shows', y='Artist', hue='Artist')\n",
    "plt.title('Top 5 Artistas por Número de Shows')\n",
    "plt.xlabel('Número de Shows')\n",
    "plt.ylabel('Artistas')\n",
    "plt.show()"
   ]
  },
  {
   "cell_type": "code",
   "execution_count": null,
   "id": "914e4526",
   "metadata": {},
   "outputs": [],
   "source": []
  }
 ],
 "metadata": {
  "kernelspec": {
   "display_name": "compass_uol",
   "language": "python",
   "name": "python3"
  },
  "language_info": {
   "codemirror_mode": {
    "name": "ipython",
    "version": 3
   },
   "file_extension": ".py",
   "mimetype": "text/x-python",
   "name": "python",
   "nbconvert_exporter": "python",
   "pygments_lexer": "ipython3",
   "version": "3.12.2"
  }
 },
 "nbformat": 4,
 "nbformat_minor": 5
}
