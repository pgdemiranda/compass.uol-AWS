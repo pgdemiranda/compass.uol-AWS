{
 "cells": [
  {
   "cell_type": "markdown",
   "id": "3ff06ff1",
   "metadata": {},
   "source": [
    "Import da biblioteca pandas"
   ]
  },
  {
   "cell_type": "code",
   "execution_count": 1,
   "id": "3157a2e0",
   "metadata": {},
   "outputs": [],
   "source": [
    "import pandas as pd"
   ]
  },
  {
   "cell_type": "markdown",
   "id": "11a8a66e",
   "metadata": {},
   "source": [
    "Import do arquivo nomes.csv à partir da pasta do exercício anterior"
   ]
  },
  {
   "cell_type": "code",
   "execution_count": 2,
   "id": "a96719c4",
   "metadata": {},
   "outputs": [],
   "source": [
    "df = pd.read_csv('../1-aws_s3/dados/nomes.csv')"
   ]
  },
  {
   "cell_type": "markdown",
   "id": "4e9b61aa",
   "metadata": {},
   "source": [
    "Dimensão do dataset \"names\""
   ]
  },
  {
   "cell_type": "code",
   "execution_count": 3,
   "id": "44637e82",
   "metadata": {},
   "outputs": [
    {
     "name": "stdout",
     "output_type": "stream",
     "text": [
      "O dataset possui 1825433 linhas e 4 colunas.\n"
     ]
    }
   ],
   "source": [
    "df.shape\n",
    "print(f'O dataset possui {df.shape[0]} linhas e {df.shape[1]} colunas.')"
   ]
  },
  {
   "cell_type": "markdown",
   "id": "c322293e",
   "metadata": {},
   "source": [
    "Colunas do dataset \"names\""
   ]
  },
  {
   "cell_type": "code",
   "execution_count": 4,
   "id": "55ede740",
   "metadata": {},
   "outputs": [
    {
     "data": {
      "text/plain": [
       "Index(['nome', 'sexo', 'total', 'ano'], dtype='object')"
      ]
     },
     "execution_count": 4,
     "metadata": {},
     "output_type": "execute_result"
    }
   ],
   "source": [
    "df.columns"
   ]
  },
  {
   "cell_type": "markdown",
   "id": "80f19a0e",
   "metadata": {},
   "source": [
    "Tipos dos dados no dataset \"names\""
   ]
  },
  {
   "cell_type": "code",
   "execution_count": 5,
   "id": "72fb6513",
   "metadata": {},
   "outputs": [
    {
     "data": {
      "text/plain": [
       "nome     object\n",
       "sexo     object\n",
       "total     int64\n",
       "ano       int64\n",
       "dtype: object"
      ]
     },
     "execution_count": 5,
     "metadata": {},
     "output_type": "execute_result"
    }
   ],
   "source": [
    "df.dtypes"
   ]
  },
  {
   "cell_type": "code",
   "execution_count": 6,
   "id": "396b3e48",
   "metadata": {},
   "outputs": [
    {
     "data": {
      "text/html": [
       "<div>\n",
       "<style scoped>\n",
       "    .dataframe tbody tr th:only-of-type {\n",
       "        vertical-align: middle;\n",
       "    }\n",
       "\n",
       "    .dataframe tbody tr th {\n",
       "        vertical-align: top;\n",
       "    }\n",
       "\n",
       "    .dataframe thead th {\n",
       "        text-align: right;\n",
       "    }\n",
       "</style>\n",
       "<table border=\"1\" class=\"dataframe\">\n",
       "  <thead>\n",
       "    <tr style=\"text-align: right;\">\n",
       "      <th></th>\n",
       "      <th>nome</th>\n",
       "      <th>sexo</th>\n",
       "      <th>total</th>\n",
       "      <th>ano</th>\n",
       "    </tr>\n",
       "  </thead>\n",
       "  <tbody>\n",
       "    <tr>\n",
       "      <th>0</th>\n",
       "      <td>Jennifer</td>\n",
       "      <td>F</td>\n",
       "      <td>54336</td>\n",
       "      <td>1983</td>\n",
       "    </tr>\n",
       "    <tr>\n",
       "      <th>1</th>\n",
       "      <td>Jessica</td>\n",
       "      <td>F</td>\n",
       "      <td>45278</td>\n",
       "      <td>1983</td>\n",
       "    </tr>\n",
       "    <tr>\n",
       "      <th>2</th>\n",
       "      <td>Amanda</td>\n",
       "      <td>F</td>\n",
       "      <td>33752</td>\n",
       "      <td>1983</td>\n",
       "    </tr>\n",
       "    <tr>\n",
       "      <th>3</th>\n",
       "      <td>Ashley</td>\n",
       "      <td>F</td>\n",
       "      <td>33292</td>\n",
       "      <td>1983</td>\n",
       "    </tr>\n",
       "    <tr>\n",
       "      <th>4</th>\n",
       "      <td>Sarah</td>\n",
       "      <td>F</td>\n",
       "      <td>27228</td>\n",
       "      <td>1983</td>\n",
       "    </tr>\n",
       "  </tbody>\n",
       "</table>\n",
       "</div>"
      ],
      "text/plain": [
       "       nome sexo  total   ano\n",
       "0  Jennifer    F  54336  1983\n",
       "1   Jessica    F  45278  1983\n",
       "2    Amanda    F  33752  1983\n",
       "3    Ashley    F  33292  1983\n",
       "4     Sarah    F  27228  1983"
      ]
     },
     "execution_count": 6,
     "metadata": {},
     "output_type": "execute_result"
    }
   ],
   "source": [
    "df.head()"
   ]
  }
 ],
 "metadata": {
  "kernelspec": {
   "display_name": "compass_uol",
   "language": "python",
   "name": "python3"
  },
  "language_info": {
   "codemirror_mode": {
    "name": "ipython",
    "version": 3
   },
   "file_extension": ".py",
   "mimetype": "text/x-python",
   "name": "python",
   "nbconvert_exporter": "python",
   "pygments_lexer": "ipython3",
   "version": "3.12.2"
  }
 },
 "nbformat": 4,
 "nbformat_minor": 5
}
