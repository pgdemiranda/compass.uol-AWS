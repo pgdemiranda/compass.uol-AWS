{
 "cells": [
  {
   "cell_type": "markdown",
   "id": "23adaa13",
   "metadata": {},
   "source": [
    "# Imports"
   ]
  },
  {
   "cell_type": "code",
   "execution_count": 1,
   "id": "a5408760",
   "metadata": {},
   "outputs": [],
   "source": [
    "import pandas as pd\n",
    "import boto3\n",
    "from os import environ as env\n",
    "from dotenv import load_dotenv"
   ]
  },
  {
   "cell_type": "markdown",
   "id": "e8e8185e",
   "metadata": {},
   "source": [
    "# Importação dos Dados"
   ]
  },
  {
   "cell_type": "code",
   "execution_count": 2,
   "id": "537ba165",
   "metadata": {},
   "outputs": [],
   "source": [
    "df_raw = pd.read_csv('../data/anuario-2024-dados_abertos-tabela2-19.csv', sep=';')"
   ]
  },
  {
   "cell_type": "code",
   "execution_count": 3,
   "id": "da64c309",
   "metadata": {},
   "outputs": [
    {
     "data": {
      "text/html": [
       "<div>\n",
       "<style scoped>\n",
       "    .dataframe tbody tr th:only-of-type {\n",
       "        vertical-align: middle;\n",
       "    }\n",
       "\n",
       "    .dataframe tbody tr th {\n",
       "        vertical-align: top;\n",
       "    }\n",
       "\n",
       "    .dataframe thead th {\n",
       "        text-align: right;\n",
       "    }\n",
       "</style>\n",
       "<table border=\"1\" class=\"dataframe\">\n",
       "  <thead>\n",
       "    <tr style=\"text-align: right;\">\n",
       "      <th></th>\n",
       "      <th>BENEFICIÁRIO</th>\n",
       "      <th>ANO</th>\n",
       "      <th>DISTRIBUIÇÃO DE ROYALTIES SOBRE A PRODUÇÃO DE PETRÓLEO E DE GÁS NATURAL</th>\n",
       "    </tr>\n",
       "  </thead>\n",
       "  <tbody>\n",
       "    <tr>\n",
       "      <th>0</th>\n",
       "      <td>Alagoas (Estado)</td>\n",
       "      <td>2014</td>\n",
       "      <td>36993</td>\n",
       "    </tr>\n",
       "    <tr>\n",
       "      <th>1</th>\n",
       "      <td>Alagoas (Estado)</td>\n",
       "      <td>2015</td>\n",
       "      <td>27547,54381</td>\n",
       "    </tr>\n",
       "    <tr>\n",
       "      <th>2</th>\n",
       "      <td>Alagoas (Estado)</td>\n",
       "      <td>2016</td>\n",
       "      <td>22606,50137</td>\n",
       "    </tr>\n",
       "    <tr>\n",
       "      <th>3</th>\n",
       "      <td>Alagoas (Estado)</td>\n",
       "      <td>2017</td>\n",
       "      <td>22204,34408</td>\n",
       "    </tr>\n",
       "    <tr>\n",
       "      <th>4</th>\n",
       "      <td>Alagoas (Estado)</td>\n",
       "      <td>2018</td>\n",
       "      <td>24711,96505</td>\n",
       "    </tr>\n",
       "  </tbody>\n",
       "</table>\n",
       "</div>"
      ],
      "text/plain": [
       "       BENEFICIÁRIO   ANO  \\\n",
       "0  Alagoas (Estado)  2014   \n",
       "1  Alagoas (Estado)  2015   \n",
       "2  Alagoas (Estado)  2016   \n",
       "3  Alagoas (Estado)  2017   \n",
       "4  Alagoas (Estado)  2018   \n",
       "\n",
       "  DISTRIBUIÇÃO DE ROYALTIES SOBRE A PRODUÇÃO DE PETRÓLEO E DE GÁS NATURAL  \n",
       "0                                              36993                       \n",
       "1                                        27547,54381                       \n",
       "2                                        22606,50137                       \n",
       "3                                        22204,34408                       \n",
       "4                                        24711,96505                       "
      ]
     },
     "execution_count": 3,
     "metadata": {},
     "output_type": "execute_result"
    }
   ],
   "source": [
    "df_raw.head()"
   ]
  },
  {
   "cell_type": "markdown",
   "id": "008ccbb0",
   "metadata": {},
   "source": [
    "# Exploração de Dados"
   ]
  },
  {
   "cell_type": "code",
   "execution_count": 4,
   "id": "98425d3e",
   "metadata": {},
   "outputs": [],
   "source": [
    "df = df_raw.copy()"
   ]
  },
  {
   "cell_type": "code",
   "execution_count": 5,
   "id": "676e3168",
   "metadata": {},
   "outputs": [
    {
     "data": {
      "text/plain": [
       "(370, 3)"
      ]
     },
     "execution_count": 5,
     "metadata": {},
     "output_type": "execute_result"
    }
   ],
   "source": [
    "df.shape"
   ]
  },
  {
   "cell_type": "code",
   "execution_count": 6,
   "id": "ef1bb1ba",
   "metadata": {},
   "outputs": [
    {
     "data": {
      "text/plain": [
       "BENEFICIÁRIO                                                               object\n",
       "ANO                                                                         int64\n",
       "DISTRIBUIÇÃO DE ROYALTIES SOBRE A PRODUÇÃO DE PETRÓLEO E DE GÁS NATURAL    object\n",
       "dtype: object"
      ]
     },
     "execution_count": 6,
     "metadata": {},
     "output_type": "execute_result"
    }
   ],
   "source": [
    "df.dtypes"
   ]
  },
  {
   "cell_type": "code",
   "execution_count": 7,
   "id": "80127f59",
   "metadata": {},
   "outputs": [
    {
     "data": {
      "text/plain": [
       "BENEFICIÁRIO                                                               0\n",
       "ANO                                                                        0\n",
       "DISTRIBUIÇÃO DE ROYALTIES SOBRE A PRODUÇÃO DE PETRÓLEO E DE GÁS NATURAL    0\n",
       "dtype: int64"
      ]
     },
     "execution_count": 7,
     "metadata": {},
     "output_type": "execute_result"
    }
   ],
   "source": [
    "df.isna().sum()"
   ]
  },
  {
   "cell_type": "code",
   "execution_count": 8,
   "id": "00e1cbc7",
   "metadata": {},
   "outputs": [
    {
     "data": {
      "text/plain": [
       "np.int64(0)"
      ]
     },
     "execution_count": 8,
     "metadata": {},
     "output_type": "execute_result"
    }
   ],
   "source": [
    "df.duplicated().sum()"
   ]
  },
  {
   "cell_type": "code",
   "execution_count": 9,
   "id": "761ce49e",
   "metadata": {},
   "outputs": [
    {
     "data": {
      "text/plain": [
       "Index(['BENEFICIÁRIO', 'ANO',\n",
       "       'DISTRIBUIÇÃO DE ROYALTIES SOBRE A PRODUÇÃO DE PETRÓLEO E DE GÁS NATURAL'],\n",
       "      dtype='object')"
      ]
     },
     "execution_count": 9,
     "metadata": {},
     "output_type": "execute_result"
    }
   ],
   "source": [
    "df.columns"
   ]
  },
  {
   "cell_type": "markdown",
   "id": "3ee95b9e",
   "metadata": {},
   "source": [
    "# Formulação de Perguntas "
   ]
  },
  {
   "cell_type": "markdown",
   "id": "3c67afec",
   "metadata": {},
   "source": [
    "1. Qual a diferença total (somando todos os anos) no recebimento dos royalties entre cada estado e os seus municípios?\n",
    "2. Que região do Brasil recebeu mais royalties e que região recebeu menos?\n",
    "3. Qual foi a evolução de royalties para beneficiários que não os estados ou os municípios desses estados?"
   ]
  },
  {
   "cell_type": "markdown",
   "id": "682864fc",
   "metadata": {},
   "source": [
    "# Exportação dos Dados com boto3"
   ]
  },
  {
   "cell_type": "code",
   "execution_count": 10,
   "id": "a95712f6",
   "metadata": {},
   "outputs": [
    {
     "name": "stdout",
     "output_type": "stream",
     "text": [
      "Bucket encontrado\n",
      "Upload realizado\n"
     ]
    }
   ],
   "source": [
    "load_dotenv()\n",
    "\n",
    "access_key = env.get('AWS_ACCESS_KEY_ID')\n",
    "secret_key = env.get('AWS_SECRET_ACCESS_KEY')\n",
    "bucket_name = env.get('BUCKET_NAME')\n",
    "\n",
    "if not all([access_key, secret_key, bucket_name]):\n",
    "    missing = [name for name, value in [\n",
    "        ('AWS_ACCESS_KEY_ID', access_key),\n",
    "        ('AWS_SECRET_ACCESS_KEY', secret_key),\n",
    "        ('BUCKET_NAME', bucket_name)\n",
    "    ] if not value]\n",
    "    raise ValueError(f\"Variáveis de ambiente faltando: {', '.join(missing)}\")\n",
    "\n",
    "s3 = boto3.client(\n",
    "    's3',\n",
    "    aws_access_key_id=access_key,\n",
    "    aws_secret_access_key=secret_key,\n",
    "    region_name='us-east-1',\n",
    ")\n",
    "\n",
    "try:\n",
    "    s3.head_bucket(Bucket=bucket_name)\n",
    "    print(f'Bucket encontrado')\n",
    "\n",
    "    df.to_csv(\n",
    "        f's3://{bucket_name}/anuario-2024-dados_abertos-tabela2-19.csv',\n",
    "        storage_options={\n",
    "            'key': access_key,\n",
    "            'secret': secret_key\n",
    "        },\n",
    "        index=False\n",
    "    )\n",
    "    print('Upload realizado')\n",
    "\n",
    "except Exception as e:\n",
    "    print('Erro:', e)"
   ]
  },
  {
   "cell_type": "code",
   "execution_count": null,
   "id": "62d98e45",
   "metadata": {},
   "outputs": [],
   "source": []
  }
 ],
 "metadata": {
  "kernelspec": {
   "display_name": "compass_uol",
   "language": "python",
   "name": "python3"
  },
  "language_info": {
   "codemirror_mode": {
    "name": "ipython",
    "version": 3
   },
   "file_extension": ".py",
   "mimetype": "text/x-python",
   "name": "python",
   "nbconvert_exporter": "python",
   "pygments_lexer": "ipython3",
   "version": "3.12.2"
  }
 },
 "nbformat": 4,
 "nbformat_minor": 5
}
