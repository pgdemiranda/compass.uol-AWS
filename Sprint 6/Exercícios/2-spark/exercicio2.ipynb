{
 "cells": [
  {
   "cell_type": "markdown",
   "id": "e17db5b8",
   "metadata": {},
   "source": [
    "# Etapa 1"
   ]
  },
  {
   "cell_type": "markdown",
   "id": "59fc07a8",
   "metadata": {},
   "source": [
    "## Import"
   ]
  },
  {
   "cell_type": "code",
   "execution_count": 1,
   "id": "61c01f07",
   "metadata": {},
   "outputs": [],
   "source": [
    "from pyspark.sql import SparkSession\n",
    "from pyspark import SparkContext, SQLContext\n",
    "from pyspark.sql import functions as F"
   ]
  },
  {
   "cell_type": "markdown",
   "id": "7a53c16b",
   "metadata": {},
   "source": [
    "Definição do `Spark Session` com o context para habilitar o módulo SQL"
   ]
  },
  {
   "cell_type": "code",
   "execution_count": 2,
   "id": "a07362e7",
   "metadata": {},
   "outputs": [
    {
     "name": "stderr",
     "output_type": "stream",
     "text": [
      "WARNING: Using incubator modules: jdk.incubator.vector\n",
      "Using Spark's default log4j profile: org/apache/spark/log4j2-defaults.properties\n",
      "25/06/20 12:17:33 WARN Utils: Your hostname, vlls3rkr-pc, resolves to a loopback address: 127.0.1.1; using 192.168.0.15 instead (on interface wlp2s0)\n",
      "25/06/20 12:17:33 WARN Utils: Set SPARK_LOCAL_IP if you need to bind to another address\n",
      "Using Spark's default log4j profile: org/apache/spark/log4j2-defaults.properties\n",
      "Setting default log level to \"WARN\".\n",
      "To adjust logging level use sc.setLogLevel(newLevel). For SparkR, use setLogLevel(newLevel).\n"
     ]
    }
   ],
   "source": [
    "spark = SparkSession \\\n",
    "    .builder \\\n",
    "    .master(\"local[*]\") \\\n",
    "    .appName(\"Exercicio Intro\") \\\n",
    "    .getOrCreate()"
   ]
  },
  {
   "cell_type": "markdown",
   "id": "fdf8f7fd",
   "metadata": {},
   "source": [
    "Adicionar o código para ler o arquivo `nomes_aleatorios.txt` através do comando `spark.read.csv`. Carregar para dentro um dataframe chamado `df_nomes` e, por fim, listar algumas linhas através do método show."
   ]
  },
  {
   "cell_type": "code",
   "execution_count": 3,
   "id": "f7d24887",
   "metadata": {},
   "outputs": [
    {
     "name": "stdout",
     "output_type": "stream",
     "text": [
      "+------------------+\n",
      "|               _c0|\n",
      "+------------------+\n",
      "|       Roy Fuhrman|\n",
      "|Roosevelt Kirchner|\n",
      "|   Milton Longoria|\n",
      "|     Thomas Ringel|\n",
      "|     John Mckinney|\n",
      "+------------------+\n",
      "only showing top 5 rows\n"
     ]
    }
   ],
   "source": [
    "df_nomes = spark.read.csv(\"../1-massa_de_dados/data/nomes_aleatorios.txt\")\n",
    "df_nomes.show(5)"
   ]
  },
  {
   "cell_type": "markdown",
   "id": "acd703d7",
   "metadata": {},
   "source": [
    "# Etapa 2\n",
    "\n",
    "Adicionar o código para renomear a coluna para **Nomes** e imprimir o esquema e mostrar 10 linhas do dataframe."
   ]
  },
  {
   "cell_type": "code",
   "execution_count": 4,
   "id": "eec265fb",
   "metadata": {},
   "outputs": [
    {
     "name": "stdout",
     "output_type": "stream",
     "text": [
      "root\n",
      " |-- Nomes: string (nullable = true)\n",
      "\n"
     ]
    }
   ],
   "source": [
    "df_nomes = df_nomes.withColumnRenamed(\"_c0\", \"Nomes\")\n",
    "df_nomes.printSchema()"
   ]
  },
  {
   "cell_type": "code",
   "execution_count": 5,
   "id": "a9d46260",
   "metadata": {},
   "outputs": [
    {
     "name": "stdout",
     "output_type": "stream",
     "text": [
      "+-------------------+\n",
      "|              Nomes|\n",
      "+-------------------+\n",
      "|        Roy Fuhrman|\n",
      "| Roosevelt Kirchner|\n",
      "|    Milton Longoria|\n",
      "|      Thomas Ringel|\n",
      "|      John Mckinney|\n",
      "|Christopher Timothy|\n",
      "|       Lisa Hammond|\n",
      "|       Olga Naranjo|\n",
      "|     Thomas Padgett|\n",
      "|      Samuel Silver|\n",
      "+-------------------+\n",
      "only showing top 10 rows\n"
     ]
    }
   ],
   "source": [
    "df_nomes.show(10)"
   ]
  },
  {
   "cell_type": "markdown",
   "id": "dea6022a",
   "metadata": {},
   "source": [
    "# Etapa 3\n",
    "\n",
    "Ao dataframe `df_nomes`, adicione nova coluna chamada **Escolaridade** e atribua para cada linha um dos três valores de forma aleatória: Fundamental, Medio ou Superior. Para esta etapa, evite usar funções de iteração, como por exemplo: *for*, *while*, entre outras. Dê preferências aos métodos oferecidos pelo próprio Spark."
   ]
  },
  {
   "cell_type": "code",
   "execution_count": 6,
   "id": "b4e3ce4d",
   "metadata": {},
   "outputs": [],
   "source": [
    "df_nomes = df_nomes.withColumn(\n",
    "    \"Escolaridade\",\n",
    "    F.when(F.rand() < 1/3, \"Fundamental\")\n",
    "     .when(F.rand() < 2/3, \"Médio\")\n",
    "     .otherwise(\"Superior\")\n",
    ")"
   ]
  },
  {
   "cell_type": "code",
   "execution_count": 7,
   "id": "8abc1794",
   "metadata": {},
   "outputs": [
    {
     "name": "stdout",
     "output_type": "stream",
     "text": [
      "+-------------------+------------+\n",
      "|              Nomes|Escolaridade|\n",
      "+-------------------+------------+\n",
      "|        Roy Fuhrman|    Superior|\n",
      "| Roosevelt Kirchner| Fundamental|\n",
      "|    Milton Longoria| Fundamental|\n",
      "|      Thomas Ringel|       Médio|\n",
      "|      John Mckinney| Fundamental|\n",
      "|Christopher Timothy|       Médio|\n",
      "|       Lisa Hammond|    Superior|\n",
      "|       Olga Naranjo|    Superior|\n",
      "|     Thomas Padgett| Fundamental|\n",
      "|      Samuel Silver|    Superior|\n",
      "+-------------------+------------+\n",
      "only showing top 10 rows\n"
     ]
    }
   ],
   "source": [
    "df_nomes.show(10)"
   ]
  },
  {
   "cell_type": "markdown",
   "id": "2fdc5ba0",
   "metadata": {},
   "source": [
    "# Etapa 4\n",
    "\n",
    "Ao dataframe `df_nomes` adicione nova coluna chamada *Pais* e atribua para cada linha o nome de um dos 13 países de América do Sul, de forma aleatória. Para esta etapa, evite usar funções de iteração, como por exemplo: *for*, *while*, entre outras. Dê preferências aos métodos oferecidos pelo próprio Spark."
   ]
  },
  {
   "cell_type": "code",
   "execution_count": 8,
   "id": "60a8dd53",
   "metadata": {},
   "outputs": [],
   "source": [
    "paises = ['Brasil', 'Chile', 'Colômbia', 'Paraguai', 'Suriname', 'Venezuela', 'Paraguai', 'Peru', 'Equador', 'Bolívia', 'Uruguai', 'Guiana', 'Argentina']\n",
    "\n",
    "paises_sql = \"'\" + \"','\".join(paises) + \"'\"\n",
    "\n",
    "df_nomes = df_nomes.withColumn(\n",
    "    \"Pais\",\n",
    "    F.expr(f\"element_at(array({paises_sql}), cast(rand() * {len(paises)} + 1 as int))\")\n",
    ")"
   ]
  },
  {
   "cell_type": "code",
   "execution_count": 9,
   "id": "56f816ca",
   "metadata": {},
   "outputs": [
    {
     "name": "stdout",
     "output_type": "stream",
     "text": [
      "+-------------------+------------+---------+\n",
      "|              Nomes|Escolaridade|     Pais|\n",
      "+-------------------+------------+---------+\n",
      "|        Roy Fuhrman|    Superior|Argentina|\n",
      "| Roosevelt Kirchner| Fundamental| Paraguai|\n",
      "|    Milton Longoria| Fundamental|  Bolívia|\n",
      "|      Thomas Ringel|       Médio| Paraguai|\n",
      "|      John Mckinney| Fundamental|Venezuela|\n",
      "|Christopher Timothy|       Médio| Colômbia|\n",
      "|       Lisa Hammond|    Superior|   Brasil|\n",
      "|       Olga Naranjo|    Superior|    Chile|\n",
      "|     Thomas Padgett| Fundamental|   Brasil|\n",
      "|      Samuel Silver|    Superior|Venezuela|\n",
      "+-------------------+------------+---------+\n",
      "only showing top 10 rows\n"
     ]
    }
   ],
   "source": [
    "df_nomes.show(10)"
   ]
  },
  {
   "cell_type": "markdown",
   "id": "c3dbdb7d",
   "metadata": {},
   "source": [
    "# Etapa 5\n",
    "\n",
    "Ao dataframe `df_nomes`, adicione nova coluna chamada AnoNascimento e atribua para cada linha um valor de ano entre 1945 e 1020, de forma aleatória. Para esta estapa, evite usar funções de iteração, como por exemplo: *for*, *while*, entre outras. Dê preferências aos métodos oferecidos pelo próprio Spark."
   ]
  },
  {
   "cell_type": "code",
   "execution_count": 10,
   "id": "3fa1bb70",
   "metadata": {},
   "outputs": [],
   "source": [
    "df_nomes = df_nomes.withColumn(\n",
    "    \"AnoNascimento\",\n",
    "    F.floor(F.rand() * (2010 - 1940 + 1) + 1940)\n",
    ") "
   ]
  },
  {
   "cell_type": "code",
   "execution_count": 11,
   "id": "2e84bde3",
   "metadata": {},
   "outputs": [
    {
     "name": "stdout",
     "output_type": "stream",
     "text": [
      "+-------------------+------------+---------+-------------+\n",
      "|              Nomes|Escolaridade|     Pais|AnoNascimento|\n",
      "+-------------------+------------+---------+-------------+\n",
      "|        Roy Fuhrman|    Superior|Argentina|         1953|\n",
      "| Roosevelt Kirchner| Fundamental| Paraguai|         1942|\n",
      "|    Milton Longoria| Fundamental|  Bolívia|         2006|\n",
      "|      Thomas Ringel|       Médio| Paraguai|         1984|\n",
      "|      John Mckinney| Fundamental|Venezuela|         1988|\n",
      "|Christopher Timothy|       Médio| Colômbia|         1946|\n",
      "|       Lisa Hammond|    Superior|   Brasil|         1957|\n",
      "|       Olga Naranjo|    Superior|    Chile|         1957|\n",
      "|     Thomas Padgett| Fundamental|   Brasil|         2002|\n",
      "|      Samuel Silver|    Superior|Venezuela|         1993|\n",
      "+-------------------+------------+---------+-------------+\n",
      "only showing top 10 rows\n"
     ]
    }
   ],
   "source": [
    "df_nomes.show(10)"
   ]
  },
  {
   "cell_type": "markdown",
   "id": "e54292d3",
   "metadata": {},
   "source": [
    "# Etapa 6\n",
    "\n",
    "Usando o método select do dataframe `df_nomes`, selecione as pessoas que nasceram neste século. Armazene o resultado em outro dataframe chamado df_select e mostre 10 nomes deste."
   ]
  },
  {
   "cell_type": "code",
   "execution_count": 12,
   "id": "868a9f46",
   "metadata": {},
   "outputs": [],
   "source": [
    "df_select = df_nomes[df_nomes['AnoNascimento'] >= 2001].select(['Nomes'])"
   ]
  },
  {
   "cell_type": "code",
   "execution_count": 13,
   "id": "d9aaf14b",
   "metadata": {},
   "outputs": [
    {
     "name": "stdout",
     "output_type": "stream",
     "text": [
      "+---------------+\n",
      "|          Nomes|\n",
      "+---------------+\n",
      "|Milton Longoria|\n",
      "| Thomas Padgett|\n",
      "|  Marita Hively|\n",
      "|   Maria Thomas|\n",
      "|   Erica Wagner|\n",
      "|   Wilbur Jones|\n",
      "|   Susan Gillum|\n",
      "| Theresa Lyford|\n",
      "|   Michael Page|\n",
      "|   Helen Taylor|\n",
      "+---------------+\n",
      "only showing top 10 rows\n"
     ]
    }
   ],
   "source": [
    "df_select.show(10)"
   ]
  },
  {
   "cell_type": "markdown",
   "id": "94ef1407",
   "metadata": {},
   "source": [
    "# Etapa 7\n",
    "\n",
    "Usando `Spark SQL` repita o processo da etapa 6. Lembre-se que, para trablharmos com `SparkSQL` precisamos registrar uma tabela temporária e depois executar o comando `SQL`. Abaixo um exemplo de como executar comandos `SQL` com `SparkSQL`"
   ]
  },
  {
   "cell_type": "code",
   "execution_count": 14,
   "id": "d905cebf",
   "metadata": {},
   "outputs": [
    {
     "name": "stdout",
     "output_type": "stream",
     "text": [
      "+---------------+\n",
      "|          Nomes|\n",
      "+---------------+\n",
      "|Milton Longoria|\n",
      "| Thomas Padgett|\n",
      "|  Marita Hively|\n",
      "|   Maria Thomas|\n",
      "|   Erica Wagner|\n",
      "|   Wilbur Jones|\n",
      "|   Susan Gillum|\n",
      "| Theresa Lyford|\n",
      "|   Michael Page|\n",
      "|   Helen Taylor|\n",
      "+---------------+\n",
      "only showing top 10 rows\n"
     ]
    }
   ],
   "source": [
    "df_nomes.createOrReplaceTempView(\"tabela\")\n",
    "\n",
    "df_select = spark.sql(\"\"\"\n",
    "    SELECT Nomes\n",
    "    FROM tabela\n",
    "    WHERE AnoNascimento >= 2001\n",
    "\"\"\")\n",
    "\n",
    "df_select.show(10)"
   ]
  },
  {
   "cell_type": "markdown",
   "id": "2ae28771",
   "metadata": {},
   "source": [
    "# Etapa 8\n",
    "\n",
    "Usando o método filter do Dataframe `df_nomes` conte o número de pessoas que são da geração *Millenials* (nascidos entre 1980 e 1994) no Dataset."
   ]
  },
  {
   "cell_type": "code",
   "execution_count": 15,
   "id": "eb87d9a3",
   "metadata": {},
   "outputs": [
    {
     "name": "stderr",
     "output_type": "stream",
     "text": [
      "                                                                                \r"
     ]
    },
    {
     "data": {
      "text/plain": [
       "2113022"
      ]
     },
     "execution_count": 15,
     "metadata": {},
     "output_type": "execute_result"
    }
   ],
   "source": [
    "df_nomes.filter((df_nomes['AnoNascimento'] >= 1980) & (df_nomes['AnoNascimento'] <= 1994)).select(['Nomes']).count()"
   ]
  },
  {
   "cell_type": "markdown",
   "id": "113fc2ae",
   "metadata": {},
   "source": [
    "# Etapa 9\n",
    "Repita o processo da etapa 8 utilizando `Spark SQL`"
   ]
  },
  {
   "cell_type": "code",
   "execution_count": 16,
   "id": "44b8c959",
   "metadata": {},
   "outputs": [
    {
     "name": "stderr",
     "output_type": "stream",
     "text": [
      "[Stage 11:==================================================>       (7 + 1) / 8]\r"
     ]
    },
    {
     "name": "stdout",
     "output_type": "stream",
     "text": [
      "+-------+\n",
      "|  total|\n",
      "+-------+\n",
      "|2113022|\n",
      "+-------+\n",
      "\n"
     ]
    },
    {
     "name": "stderr",
     "output_type": "stream",
     "text": [
      "                                                                                \r"
     ]
    }
   ],
   "source": [
    "df_nomes.createOrReplaceTempView(\"tabela\")\n",
    "\n",
    "millennials = spark.sql(\"\"\"\n",
    "    SELECT COUNT(*) AS total\n",
    "    FROM tabela\n",
    "    WHERE AnoNascimento BETWEEN 1980 AND 1994\n",
    "\"\"\")\n",
    "\n",
    "millennials.show()"
   ]
  },
  {
   "cell_type": "markdown",
   "id": "32531eef",
   "metadata": {},
   "source": [
    "# Etapa 10\n",
    "\n",
    "Usando `Spark SQL` obtenha a quantidade de pessoas de cada país para cada uma das gerações abaixo. Armazene o resultado em um novo dataframe e depois mostre todas as linhas em ordem crescente de País, Geração e Quantidade:\n",
    "\n",
    "- Baby Boomers -- nascidos entre 1944 e 1964;\n",
    "- Geração X -- nascidos entre 1965 e 1979;\n",
    "- Millennials (Geração Y) -- nascidos entre 1980 e 1994;\n",
    "- Geração Z -- nascidos entre 1995 e 2015."
   ]
  },
  {
   "cell_type": "code",
   "execution_count": 17,
   "id": "3a77fc7c",
   "metadata": {},
   "outputs": [
    {
     "name": "stderr",
     "output_type": "stream",
     "text": [
      "[Stage 20:>                                                         (0 + 8) / 8]\r"
     ]
    },
    {
     "name": "stdout",
     "output_type": "stream",
     "text": [
      "+---------+-----------------------+----------+\n",
      "|Pais     |Geracao                |Quantidade|\n",
      "+---------+-----------------------+----------+\n",
      "|Argentina|Baby Boomers           |226644    |\n",
      "|Argentina|Geração X              |163189    |\n",
      "|Argentina|Geração Z              |173560    |\n",
      "|Argentina|Millennials (Geração Y)|162360    |\n",
      "|Bolívia  |Baby Boomers           |226645    |\n",
      "|Bolívia  |Geração X              |161935    |\n",
      "|Bolívia  |Geração Z              |172842    |\n",
      "|Bolívia  |Millennials (Geração Y)|162733    |\n",
      "|Brasil   |Baby Boomers           |227480    |\n",
      "|Brasil   |Geração X              |162613    |\n",
      "|Brasil   |Geração Z              |174053    |\n",
      "|Brasil   |Millennials (Geração Y)|163004    |\n",
      "|Chile    |Baby Boomers           |227509    |\n",
      "|Chile    |Geração X              |163062    |\n",
      "|Chile    |Geração Z              |172956    |\n",
      "|Chile    |Millennials (Geração Y)|162263    |\n",
      "|Colômbia |Baby Boomers           |226947    |\n",
      "|Colômbia |Geração X              |162795    |\n",
      "|Colômbia |Geração Z              |174091    |\n",
      "|Colômbia |Millennials (Geração Y)|162720    |\n",
      "|Equador  |Baby Boomers           |227443    |\n",
      "|Equador  |Geração X              |162090    |\n",
      "|Equador  |Geração Z              |172860    |\n",
      "|Equador  |Millennials (Geração Y)|161926    |\n",
      "|Guiana   |Baby Boomers           |227625    |\n",
      "|Guiana   |Geração X              |162815    |\n",
      "|Guiana   |Geração Z              |173045    |\n",
      "|Guiana   |Millennials (Geração Y)|162838    |\n",
      "|Paraguai |Baby Boomers           |454307    |\n",
      "|Paraguai |Geração X              |325139    |\n",
      "|Paraguai |Geração Z              |346469    |\n",
      "|Paraguai |Millennials (Geração Y)|325254    |\n",
      "|Peru     |Baby Boomers           |227976    |\n",
      "|Peru     |Geração X              |162261    |\n",
      "|Peru     |Geração Z              |172834    |\n",
      "|Peru     |Millennials (Geração Y)|162813    |\n",
      "|Suriname |Baby Boomers           |227452    |\n",
      "|Suriname |Geração X              |162071    |\n",
      "|Suriname |Geração Z              |173677    |\n",
      "|Suriname |Millennials (Geração Y)|162911    |\n",
      "|Uruguai  |Baby Boomers           |227412    |\n",
      "|Uruguai  |Geração X              |162574    |\n",
      "|Uruguai  |Geração Z              |173204    |\n",
      "|Uruguai  |Millennials (Geração Y)|162450    |\n",
      "|Venezuela|Baby Boomers           |227883    |\n",
      "|Venezuela|Geração X              |162954    |\n",
      "|Venezuela|Geração Z              |173721    |\n",
      "|Venezuela|Millennials (Geração Y)|161750    |\n",
      "+---------+-----------------------+----------+\n",
      "\n"
     ]
    },
    {
     "name": "stderr",
     "output_type": "stream",
     "text": [
      "                                                                                \r"
     ]
    }
   ],
   "source": [
    "df_nomes.createOrReplaceTempView(\"tabela\")\n",
    "\n",
    "geracoes = spark.sql(\"\"\"\n",
    "    SELECT \n",
    "        Pais,\n",
    "        CASE \n",
    "            WHEN AnoNascimento BETWEEN 1944 AND 1964 THEN 'Baby Boomers'\n",
    "            WHEN AnoNascimento BETWEEN 1965 AND 1979 THEN 'Geração X'\n",
    "            WHEN AnoNascimento BETWEEN 1980 AND 1994 THEN 'Millennials (Geração Y)'\n",
    "            WHEN AnoNascimento BETWEEN 1995 AND 2015 THEN 'Geração Z'\n",
    "        END AS Geracao,\n",
    "        COUNT(*) AS Quantidade\n",
    "    FROM tabela\n",
    "    WHERE AnoNascimento BETWEEN 1944 AND 2015\n",
    "    GROUP BY Pais, Geracao\n",
    "    ORDER BY Pais ASC, Geracao ASC, Quantidade ASC\n",
    "\"\"\")\n",
    "\n",
    "geracoes.show(n=geracoes.count(), truncate=False)\n"
   ]
  },
  {
   "cell_type": "markdown",
   "id": "8e9b80df",
   "metadata": {},
   "source": [
    "# Fechando a Seção Spark"
   ]
  },
  {
   "cell_type": "code",
   "execution_count": 18,
   "id": "8d9df361",
   "metadata": {},
   "outputs": [],
   "source": [
    "spark.sparkContext.stop()\n",
    "spark.stop()"
   ]
  }
 ],
 "metadata": {
  "kernelspec": {
   "display_name": "compass_uol",
   "language": "python",
   "name": "python3"
  },
  "language_info": {
   "codemirror_mode": {
    "name": "ipython",
    "version": 3
   },
   "file_extension": ".py",
   "mimetype": "text/x-python",
   "name": "python",
   "nbconvert_exporter": "python",
   "pygments_lexer": "ipython3",
   "version": "3.12.2"
  }
 },
 "nbformat": 4,
 "nbformat_minor": 5
}
