{
 "cells": [
  {
   "cell_type": "markdown",
   "id": "0ee4d49a",
   "metadata": {},
   "source": [
    "# Etapa 1\n",
    "\n",
    "Apresente o ator/atriz com maior número de filmes e a respectiva quantidade. A quantidade de filmes encontra-se na coluna Number of movies do arquivo."
   ]
  },
  {
   "cell_type": "code",
   "execution_count": null,
   "id": "e1d28681",
   "metadata": {},
   "outputs": [],
   "source": [
    "import csv\n",
    "\n",
    "with open('actors.csv', mode='r') as atores_csv:\n",
    "    atores = list(csv.DictReader(atores_csv))\n",
    "    top_ator = max(atores, key=lambda x: int(x['Number of Movies']))\n",
    "    ator = top_ator['Actor']\n",
    "    filmes = top_ator['Number of Movies']\n",
    "    \n",
    "with open('etapa-1.txt', mode='w') as saida:\n",
    "    saida.write(f'O ator ou a atriz com mais filmes é {ator} tendo atuado em {filmes} filmes.')"
   ]
  },
  {
   "cell_type": "markdown",
   "id": "ca17e149",
   "metadata": {},
   "source": [
    "# Etapa 2\n",
    "\n",
    "Apresente a média de receita de bilheteria bruta dos principais filmes, considerando todos os atores. Estamos falando aqui da média da coluna Gross.\n"
   ]
  },
  {
   "cell_type": "code",
   "execution_count": 2,
   "id": "11ca5ad2",
   "metadata": {},
   "outputs": [],
   "source": [
    "import csv\n",
    "\n",
    "with open('actors.csv', mode='r') as atores_csv:\n",
    "    atores = list(csv.DictReader(atores_csv))\n",
    "    media_bilheteria = sum(float(x['Total Gross']) for x in atores) / len(atores)\n",
    "\n",
    "with open('etapa-2.txt', mode='w') as saida:\n",
    "    saida.write(f'A média da bilheteria bruta dos principais filmes é de {media_bilheteria:.2f}.')"
   ]
  },
  {
   "cell_type": "markdown",
   "id": "b606ea4b",
   "metadata": {},
   "source": [
    "# Etapa 3\n",
    "\n",
    "Apresenta o ator/atriz com a maior média de receita de bilheteria bruta por filme do conjunto de dados. Considere a coluna Average per Movie para fins de cálculo."
   ]
  },
  {
   "cell_type": "code",
   "execution_count": 3,
   "id": "422ba447",
   "metadata": {},
   "outputs": [],
   "source": [
    "import csv\n",
    "\n",
    "with open('actors.csv', mode='r') as atores_csv:\n",
    "    atores = list(csv.DictReader(atores_csv))\n",
    "    top_receita = max(atores, key=lambda x: float(x['Average per Movie']))\n",
    "    ator = top_receita['Actor']\n",
    "\n",
    "with open('etapa-3.txt', mode='w') as saida:\n",
    "    saida.write(f'O ator ou a atriz com a maior média de receita de bilheteira bruta por filme é: {ator}.')"
   ]
  },
  {
   "cell_type": "markdown",
   "id": "ade78a76",
   "metadata": {},
   "source": [
    "# Etapa 4\n",
    "\n",
    "A coluna #1 Movie contém o filme de maior bilheteriea em que o autor atuou. Realize a contagem de aparições destes filmes no dataset, listando-os ordenados pela quantidade de vezes em que estão presentes. Considere a ordem decrescente e, em segundo nível, o nome do filme. \n",
    "\n",
    "Ao escrever no arquivo, considere o padrão de saída (sequencia) - O filme (nome filme) aparece (quantidade) vez(es) no dataset, adicionando um resultado a cada linha."
   ]
  },
  {
   "cell_type": "code",
   "execution_count": 6,
   "id": "305a9708",
   "metadata": {},
   "outputs": [],
   "source": [
    "import csv\n",
    "\n",
    "contador = {}\n",
    "\n",
    "with open('actors.csv', mode='r') as atores_csv:\n",
    "    atores = csv.DictReader(atores_csv)\n",
    "    for linha in atores:\n",
    "        filme = linha['#1 Movie']\n",
    "        if filme:\n",
    "            contador[filme] = contador.get(filme, 0) + 1\n",
    "\n",
    "with open('etapa-4.txt', mode='w') as saida:\n",
    "    for sequencia, (filme, qtd) in enumerate(sorted(contador.items(), key=lambda x: (-x[1], x[0])), 1):\n",
    "        saida.write(f\"{sequencia} - O filme {filme} aparece {qtd} vez(es) no dataset\\n\")"
   ]
  },
  {
   "cell_type": "markdown",
   "id": "38270698",
   "metadata": {},
   "source": [
    "# Etapa 5\n",
    "\n",
    "Apresente a lista dos atores ordenada pela receita bruta de bilheteria de seus filmes (coluna Total Gross), em ordem decrescente. Ao escrever no arquivo, considere o padrão de saída (nome do ator) - (receita total bruta), adicionando um resultado a cada linha."
   ]
  },
  {
   "cell_type": "code",
   "execution_count": 5,
   "id": "844b96a6",
   "metadata": {},
   "outputs": [],
   "source": [
    "import csv\n",
    "\n",
    "with open('actors.csv', mode='r') as atores_csv:\n",
    "    atores = sorted(csv.DictReader(atores_csv),\n",
    "        key=lambda x: float(x['Total Gross']),\n",
    "        reverse=True\n",
    "    )\n",
    "\n",
    "with open('etapa-5.txt', mode='w') as saida:\n",
    "    for ator in atores:\n",
    "        saida.write(f\"{ator['Actor']} - {ator['Total Gross']}\\n\")"
   ]
  },
  {
   "cell_type": "code",
   "execution_count": null,
   "id": "592e721d",
   "metadata": {},
   "outputs": [],
   "source": []
  }
 ],
 "metadata": {
  "kernelspec": {
   "display_name": "compass_uol",
   "language": "python",
   "name": "python3"
  },
  "language_info": {
   "codemirror_mode": {
    "name": "ipython",
    "version": 3
   },
   "file_extension": ".py",
   "mimetype": "text/x-python",
   "name": "python",
   "nbconvert_exporter": "python",
   "pygments_lexer": "ipython3",
   "version": "3.12.9"
  }
 },
 "nbformat": 4,
 "nbformat_minor": 5
}
