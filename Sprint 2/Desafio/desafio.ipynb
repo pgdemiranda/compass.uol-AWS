{
 "cells": [
  {
   "cell_type": "markdown",
   "id": "43612ee1",
   "metadata": {},
   "source": [
    "# **Etapa 1**: Ambiente"
   ]
  },
  {
   "cell_type": "markdown",
   "id": "1815b217",
   "metadata": {},
   "source": [
    "## Importação das Bibliotecas\n",
    "\n",
    "Aqui fizemos a importação das duas bibliotecas requeridas pelo **Desafio**, Pandas e Matplotlib com *alias* de pd e plt. Outras bibliotecas podem ser importadas, mas essas duas são obrigatórias, um requerimento do próprio **Desafio**."
   ]
  },
  {
   "cell_type": "code",
   "execution_count": 128,
   "id": "a169298a",
   "metadata": {},
   "outputs": [],
   "source": [
    "# bibliotecas obrigatórias para o Desafio\n",
    "import pandas as pd\n",
    "import matplotlib.pyplot as plt\n",
    "\n",
    "# bibliotecas opcionais\n",
    "import numpy as np"
   ]
  },
  {
   "cell_type": "markdown",
   "id": "d40064fd",
   "metadata": {},
   "source": [
    "## Importação do Dataset\n",
    "\n",
    "O que gostamos de fazer sempre é examinar o estado do dataset, o que inclui entender a dimensão do dataset em linhas e colunas, procurar por dados faltantes, dados duplicados e os tipos dos dados.\n",
    "\n",
    "Documentação:\n",
    "- read_csv\n",
    "    - https://pandas.pydata.org/pandas-docs/stable/reference/api/pandas.read_csv.html\n",
    "\n",
    "- head\n",
    "    - https://pandas.pydata.org/pandas-docs/stable/reference/api/pandas.DataFrame.head.html#pandas.DataFrame.head"
   ]
  },
  {
   "cell_type": "code",
   "execution_count": 129,
   "id": "7211a460",
   "metadata": {},
   "outputs": [
    {
     "data": {
      "text/html": [
       "<div>\n",
       "<style scoped>\n",
       "    .dataframe tbody tr th:only-of-type {\n",
       "        vertical-align: middle;\n",
       "    }\n",
       "\n",
       "    .dataframe tbody tr th {\n",
       "        vertical-align: top;\n",
       "    }\n",
       "\n",
       "    .dataframe thead th {\n",
       "        text-align: right;\n",
       "    }\n",
       "</style>\n",
       "<table border=\"1\" class=\"dataframe\">\n",
       "  <thead>\n",
       "    <tr style=\"text-align: right;\">\n",
       "      <th></th>\n",
       "      <th>App</th>\n",
       "      <th>Category</th>\n",
       "      <th>Rating</th>\n",
       "      <th>Reviews</th>\n",
       "      <th>Size</th>\n",
       "      <th>Installs</th>\n",
       "      <th>Type</th>\n",
       "      <th>Price</th>\n",
       "      <th>Content Rating</th>\n",
       "      <th>Genres</th>\n",
       "      <th>Last Updated</th>\n",
       "      <th>Current Ver</th>\n",
       "      <th>Android Ver</th>\n",
       "    </tr>\n",
       "  </thead>\n",
       "  <tbody>\n",
       "    <tr>\n",
       "      <th>0</th>\n",
       "      <td>Photo Editor &amp; Candy Camera &amp; Grid &amp; ScrapBook</td>\n",
       "      <td>ART_AND_DESIGN</td>\n",
       "      <td>4.1</td>\n",
       "      <td>159</td>\n",
       "      <td>19M</td>\n",
       "      <td>10,000+</td>\n",
       "      <td>Free</td>\n",
       "      <td>0</td>\n",
       "      <td>Everyone</td>\n",
       "      <td>Art &amp; Design</td>\n",
       "      <td>January 7, 2018</td>\n",
       "      <td>1.0.0</td>\n",
       "      <td>4.0.3 and up</td>\n",
       "    </tr>\n",
       "    <tr>\n",
       "      <th>1</th>\n",
       "      <td>Coloring book moana</td>\n",
       "      <td>ART_AND_DESIGN</td>\n",
       "      <td>3.9</td>\n",
       "      <td>967</td>\n",
       "      <td>14M</td>\n",
       "      <td>500,000+</td>\n",
       "      <td>Free</td>\n",
       "      <td>0</td>\n",
       "      <td>Everyone</td>\n",
       "      <td>Art &amp; Design;Pretend Play</td>\n",
       "      <td>January 15, 2018</td>\n",
       "      <td>2.0.0</td>\n",
       "      <td>4.0.3 and up</td>\n",
       "    </tr>\n",
       "    <tr>\n",
       "      <th>2</th>\n",
       "      <td>U Launcher Lite – FREE Live Cool Themes, Hide ...</td>\n",
       "      <td>ART_AND_DESIGN</td>\n",
       "      <td>4.7</td>\n",
       "      <td>87510</td>\n",
       "      <td>8.7M</td>\n",
       "      <td>5,000,000+</td>\n",
       "      <td>Free</td>\n",
       "      <td>0</td>\n",
       "      <td>Everyone</td>\n",
       "      <td>Art &amp; Design</td>\n",
       "      <td>August 1, 2018</td>\n",
       "      <td>1.2.4</td>\n",
       "      <td>4.0.3 and up</td>\n",
       "    </tr>\n",
       "    <tr>\n",
       "      <th>3</th>\n",
       "      <td>Sketch - Draw &amp; Paint</td>\n",
       "      <td>ART_AND_DESIGN</td>\n",
       "      <td>4.5</td>\n",
       "      <td>215644</td>\n",
       "      <td>25M</td>\n",
       "      <td>50,000,000+</td>\n",
       "      <td>Free</td>\n",
       "      <td>0</td>\n",
       "      <td>Teen</td>\n",
       "      <td>Art &amp; Design</td>\n",
       "      <td>June 8, 2018</td>\n",
       "      <td>Varies with device</td>\n",
       "      <td>4.2 and up</td>\n",
       "    </tr>\n",
       "    <tr>\n",
       "      <th>4</th>\n",
       "      <td>Pixel Draw - Number Art Coloring Book</td>\n",
       "      <td>ART_AND_DESIGN</td>\n",
       "      <td>4.3</td>\n",
       "      <td>967</td>\n",
       "      <td>2.8M</td>\n",
       "      <td>100,000+</td>\n",
       "      <td>Free</td>\n",
       "      <td>0</td>\n",
       "      <td>Everyone</td>\n",
       "      <td>Art &amp; Design;Creativity</td>\n",
       "      <td>June 20, 2018</td>\n",
       "      <td>1.1</td>\n",
       "      <td>4.4 and up</td>\n",
       "    </tr>\n",
       "  </tbody>\n",
       "</table>\n",
       "</div>"
      ],
      "text/plain": [
       "                                                 App        Category  Rating  \\\n",
       "0     Photo Editor & Candy Camera & Grid & ScrapBook  ART_AND_DESIGN     4.1   \n",
       "1                                Coloring book moana  ART_AND_DESIGN     3.9   \n",
       "2  U Launcher Lite – FREE Live Cool Themes, Hide ...  ART_AND_DESIGN     4.7   \n",
       "3                              Sketch - Draw & Paint  ART_AND_DESIGN     4.5   \n",
       "4              Pixel Draw - Number Art Coloring Book  ART_AND_DESIGN     4.3   \n",
       "\n",
       "  Reviews  Size     Installs  Type Price Content Rating  \\\n",
       "0     159   19M      10,000+  Free     0       Everyone   \n",
       "1     967   14M     500,000+  Free     0       Everyone   \n",
       "2   87510  8.7M   5,000,000+  Free     0       Everyone   \n",
       "3  215644   25M  50,000,000+  Free     0           Teen   \n",
       "4     967  2.8M     100,000+  Free     0       Everyone   \n",
       "\n",
       "                      Genres      Last Updated         Current Ver  \\\n",
       "0               Art & Design   January 7, 2018               1.0.0   \n",
       "1  Art & Design;Pretend Play  January 15, 2018               2.0.0   \n",
       "2               Art & Design    August 1, 2018               1.2.4   \n",
       "3               Art & Design      June 8, 2018  Varies with device   \n",
       "4    Art & Design;Creativity     June 20, 2018                 1.1   \n",
       "\n",
       "    Android Ver  \n",
       "0  4.0.3 and up  \n",
       "1  4.0.3 and up  \n",
       "2  4.0.3 and up  \n",
       "3    4.2 and up  \n",
       "4    4.4 and up  "
      ]
     },
     "execution_count": 129,
     "metadata": {},
     "output_type": "execute_result"
    }
   ],
   "source": [
    "df_raw = pd.read_csv('./googleplaystore.csv')\n",
    "df_raw.head()"
   ]
  },
  {
   "cell_type": "markdown",
   "id": "4f88d7e9",
   "metadata": {},
   "source": [
    "Usamos shape para retornar uma tupla com a dimensão dos dados, que podem ser acessados posicionalmente, 0 para linhas e 1 para colunas\n",
    "\n",
    "Documentação:\n",
    "- shape\n",
    "    - https://pandas.pydata.org/pandas-docs/stable/reference/api/pandas.DataFrame.shape.html"
   ]
  },
  {
   "cell_type": "code",
   "execution_count": 130,
   "id": "2b4c3fbb",
   "metadata": {},
   "outputs": [
    {
     "name": "stdout",
     "output_type": "stream",
     "text": [
      "O dataset possui 10841 linhas e 13 colunas\n"
     ]
    }
   ],
   "source": [
    "print('O dataset possui {} linhas e {} colunas'.format(df_raw.shape[0], df_raw.shape[1]))"
   ]
  },
  {
   "cell_type": "markdown",
   "id": "da009748",
   "metadata": {},
   "source": [
    "Utilizamos a função isna() para retornar uma lista com os dados faltantes e junto com a função sum(), somamos esses dados faltantes. Quando usado em conjunto com mais um uso da função sum() obtemos o valor absoluto de dados faltantes no dataset.\n",
    "\n",
    "Documentação:\n",
    "- isna\n",
    "    - https://pandas.pydata.org/pandas-docs/stable/reference/api/pandas.DataFrame.isna.html#pandas.DataFrame.isna\n",
    "- sum\n",
    "    - https://docs.python.org/3.11/library/functions.html#sum"
   ]
  },
  {
   "cell_type": "code",
   "execution_count": 131,
   "id": "66a5c053",
   "metadata": {},
   "outputs": [
    {
     "data": {
      "text/plain": [
       "App                  0\n",
       "Category             0\n",
       "Rating            1474\n",
       "Reviews              0\n",
       "Size                 0\n",
       "Installs             0\n",
       "Type                 1\n",
       "Price                0\n",
       "Content Rating       1\n",
       "Genres               0\n",
       "Last Updated         0\n",
       "Current Ver          8\n",
       "Android Ver          3\n",
       "dtype: int64"
      ]
     },
     "execution_count": 131,
     "metadata": {},
     "output_type": "execute_result"
    }
   ],
   "source": [
    "df_raw.isna().sum()"
   ]
  },
  {
   "cell_type": "code",
   "execution_count": 132,
   "id": "d4084b03",
   "metadata": {},
   "outputs": [
    {
     "name": "stdout",
     "output_type": "stream",
     "text": [
      "O dataset possui 1487 dados faltantes\n"
     ]
    }
   ],
   "source": [
    "print('O dataset possui {} dados faltantes'.format(df_raw.isna().sum().sum()))"
   ]
  },
  {
   "cell_type": "markdown",
   "id": "f123ad8f",
   "metadata": {},
   "source": [
    "Utilizamos a função duplicated() para retornar uma lista com valores booleanos com as linhas que possuem dados duplicados, e quando encadeado com a função sum() obtemos o valor absoluto dessas linhas.\n",
    "\n",
    "Documentação:\n",
    "- duplicated\n",
    "    - https://pandas.pydata.org/pandas-docs/stable/reference/api/pandas.DataFrame.duplicated.html#pandas.DataFrame.duplicated"
   ]
  },
  {
   "cell_type": "code",
   "execution_count": 133,
   "id": "da3682e2",
   "metadata": {},
   "outputs": [
    {
     "name": "stdout",
     "output_type": "stream",
     "text": [
      "O dataset possui 483 linhas duplicadas\n"
     ]
    }
   ],
   "source": [
    "print('O dataset possui {} linhas duplicadas'.format(df_raw.duplicated().sum()))"
   ]
  },
  {
   "cell_type": "markdown",
   "id": "099bc6e7",
   "metadata": {},
   "source": [
    "Por fim, utilizamos dtypes para obter os tipos dos dados. Observamos que apenas a coluna Rating possui dados do tipo 'float', enquanto todas as outras colunas são do tipo 'string'. Isso pode oferecer um desafio mais tarde e conversões podem ser necessárias.\n",
    "\n",
    "Documentação:\n",
    "- dtypes\n",
    "    - https://pandas.pydata.org/pandas-docs/stable/reference/api/pandas.DataFrame.dtypes.html#pandas.DataFrame.dtypes"
   ]
  },
  {
   "cell_type": "code",
   "execution_count": 134,
   "id": "599cfa5d",
   "metadata": {},
   "outputs": [
    {
     "data": {
      "text/plain": [
       "App                object\n",
       "Category           object\n",
       "Rating            float64\n",
       "Reviews            object\n",
       "Size               object\n",
       "Installs           object\n",
       "Type               object\n",
       "Price              object\n",
       "Content Rating     object\n",
       "Genres             object\n",
       "Last Updated       object\n",
       "Current Ver        object\n",
       "Android Ver        object\n",
       "dtype: object"
      ]
     },
     "execution_count": 134,
     "metadata": {},
     "output_type": "execute_result"
    }
   ],
   "source": [
    "df_raw.dtypes"
   ]
  },
  {
   "cell_type": "markdown",
   "id": "e877755a",
   "metadata": {},
   "source": [
    "# **Etapa 2**: Desenvolvimeto"
   ]
  },
  {
   "cell_type": "markdown",
   "id": "80535162",
   "metadata": {},
   "source": [
    "## 1 - Remova as linhas duplicadas;"
   ]
  },
  {
   "cell_type": "markdown",
   "id": "a33bed74",
   "metadata": {},
   "source": [
    "Para cada passo dessa etapa, faremos uma cópia do dataframe com a finalidade de ser prático na recuperação do estado dos dados se fizermos alguma transformação e precisarmos desfazer ela. Ao invés de refazermos a ingestão dos dados e rodar o código célula por célula, podemos só retornar ao início de cada tarefa dessa etapa e voltar para essa cópia.\n",
    "\n",
    "Documentação:\n",
    "- copy\n",
    "    - https://pandas.pydata.org/pandas-docs/stable/reference/api/pandas.DataFrame.copy.html#pandas.DataFrame.copy"
   ]
  },
  {
   "cell_type": "code",
   "execution_count": 135,
   "id": "7b67492c",
   "metadata": {},
   "outputs": [],
   "source": [
    "df1 = df_raw.copy()"
   ]
  },
  {
   "cell_type": "markdown",
   "id": "f8fe20a1",
   "metadata": {},
   "source": [
    "Aqui estamos conferindo a dimensão dos dados antes de eliminarmos os dados duplicados."
   ]
  },
  {
   "cell_type": "code",
   "execution_count": 136,
   "id": "584dcf57",
   "metadata": {},
   "outputs": [
    {
     "data": {
      "text/plain": [
       "(10841, 13)"
      ]
     },
     "execution_count": 136,
     "metadata": {},
     "output_type": "execute_result"
    }
   ],
   "source": [
    "df1.shape"
   ]
  },
  {
   "cell_type": "markdown",
   "id": "d8008e9c",
   "metadata": {},
   "source": [
    "Eliminamos os dados duplicados com a função drop_duplicates() sinalizando o inplace como True para que a eliminação seja duradoura no dataframe df1.\n",
    "\n",
    "Documentação:\n",
    "- drop_duplicates\n",
    "    - https://pandas.pydata.org/pandas-docs/stable/reference/api/pandas.DataFrame.drop_duplicates.html#pandas.DataFrame.drop_duplicates"
   ]
  },
  {
   "cell_type": "code",
   "execution_count": 137,
   "id": "fcd90ac8",
   "metadata": {},
   "outputs": [],
   "source": [
    "df1.drop_duplicates(inplace=True)"
   ]
  },
  {
   "cell_type": "markdown",
   "id": "ab34575d",
   "metadata": {},
   "source": [
    "### **Remover Linhas Pela Regra de Negócio**"
   ]
  },
  {
   "cell_type": "markdown",
   "id": "f71445b6",
   "metadata": {},
   "source": [
    "Pela regra de negócios, ficou combinado que apenas retirar as duplicatas não bastava, no caso de aplicativos com o mesmo nome, devemos manter os aplicativos com um maior número de instalação. Portanto, além de retirar os aplicativos cujo os valores estão inteiramente duplicados, vamos consultar quais aplicativos possuem o mesmo nome, mas números de instalações diferentes e manter aqueles que tiverem o maior número de instalação.\n",
    "\n",
    "**Isso não vai eliminar inteiramente o problema de duplicatas** mas o time de negócios pode querer manter esses registros, onde apps com o mesmo nome possuem registro diferentes por várias razões: os aplicativos podem ter passado por mudanças significativas, e apesar da natureza deles não ter sido modificada, agora eles podem estar em uma nova categoria, ou pode ter sido adicionado um método de pagamento para aplicativos que antes eram gratuitos (e o time de negócios quer acompanhar a mudança de padrões de reviews e instalações desse aplicativo). Enfim, nossa tarefa aqui é simples.\n",
    "\n",
    "Utilizamos value_count() para obter a quantidade de valores na coluna 'Installs'. Como é possível observar essa é uma coluna categórica, que não registra o número de instalação dos apps com precisão, mas registra em categorias de unidades, dezenas, centenas, milhares, dezenas de milhares, centenas de milhares, etc. Vamos precisar limpar e converter essa coluna.\n",
    "\n",
    "Documentação:\n",
    "- value_counts\n",
    "    -  https://pandas.pydata.org/pandas-docs/stable/reference/api/pandas.DataFrame.value_counts.html#pandas.DataFrame.value_counts"
   ]
  },
  {
   "cell_type": "code",
   "execution_count": 138,
   "id": "b08a537c",
   "metadata": {},
   "outputs": [
    {
     "data": {
      "text/plain": [
       "Installs\n",
       "1,000,000+        1488\n",
       "10,000,000+       1132\n",
       "100,000+          1129\n",
       "10,000+           1033\n",
       "1,000+             890\n",
       "100+               710\n",
       "5,000,000+         683\n",
       "500,000+           517\n",
       "50,000+            474\n",
       "5,000+             469\n",
       "10+                385\n",
       "100,000,000+       369\n",
       "500+               328\n",
       "50,000,000+        272\n",
       "50+                204\n",
       "5+                  82\n",
       "1+                  67\n",
       "500,000,000+        61\n",
       "1,000,000,000+      49\n",
       "0+                  14\n",
       "0                    1\n",
       "Free                 1\n",
       "Name: count, dtype: int64"
      ]
     },
     "execution_count": 138,
     "metadata": {},
     "output_type": "execute_result"
    }
   ],
   "source": [
    "df1['Installs'].value_counts()"
   ]
  },
  {
   "cell_type": "markdown",
   "id": "66aa65dc",
   "metadata": {},
   "source": [
    "Existe um dado registrado como 'Free', o que nos leva a crer que foi um erro na exportação desses dados para o arquivo .csv, podemos arrancar ele fora ou podemos entender qual o problema. O item 10472 deveria ter recebido um valor faltante em categoria, então a solução é jogar todos os dados para a próxima categoria com a ajuda da biblioteca NumPy. Por um lado **a nossas regra de negócio não nos informa se esse problema é prioritário**, de modo que poderíamos só apagar esse registro, por outro lado, como é apenas uma única linha, isso não representa um grande gasto de tempo ou energia, de modo que optamos por formatar a linha do registro. \n",
    "\n",
    "Documentação:\n",
    "- loc\n",
    "    - https://pandas.pydata.org/pandas-docs/stable/reference/api/pandas.DataFrame.loc.html\n",
    "- Biblioteca NumPy\n",
    "    - https://numpy.org/\n",
    "- adicionando valor NaN com NumPy\n",
    "    - https://numpy.org/doc/stable/reference/constants.html#numpy.nan"
   ]
  },
  {
   "cell_type": "code",
   "execution_count": 139,
   "id": "49719e97",
   "metadata": {},
   "outputs": [
    {
     "name": "stderr",
     "output_type": "stream",
     "text": [
      "/tmp/ipykernel_9811/2926383551.py:3: FutureWarning: Setting an item of incompatible dtype is deprecated and will raise an error in a future version of pandas. Value '1.9' has dtype incompatible with float64, please explicitly cast to a compatible dtype first.\n",
      "  df1.loc[10472] = correcao\n"
     ]
    }
   ],
   "source": [
    "free = df1.loc[10472].copy()\n",
    "correcao = [free['App']] + [np.nan] + list(free[1:].values)[:-1]\n",
    "df1.loc[10472] = correcao"
   ]
  },
  {
   "cell_type": "markdown",
   "id": "34883496",
   "metadata": {},
   "source": [
    "Agora vamos precisar limpar a coluna retirando o sinal gráfico de '+' e convertendo ela para inteiro.\n",
    "\n",
    "Documentação:\n",
    "- replace\n",
    "    - https://pandas.pydata.org/pandas-docs/stable/reference/api/pandas.DataFrame.replace.html#pandas.DataFrame.replace\n",
    "- convertendo os tipos de dados com astype\n",
    "    - https://pandas.pydata.org/pandas-docs/stable/reference/api/pandas.DataFrame.astype.html#pandas.DataFrame.astype"
   ]
  },
  {
   "cell_type": "code",
   "execution_count": 140,
   "id": "1163664b",
   "metadata": {},
   "outputs": [],
   "source": [
    "df1['Installs'] = df1['Installs'].str.replace('+', '').str.replace(',', '').astype(int)"
   ]
  },
  {
   "cell_type": "markdown",
   "id": "3b59d0ca",
   "metadata": {},
   "source": [
    "Finalmente, agora precisamos eliminar os aplicativos que possuem o mesmo nome, mas valores diferentes na coluna 'Install' para que eliminemos as versões com menores valores. Para conseguirmos isso, agrupamos os valores de 'App' e pedimos os maiores valores na coluna 'Installs' com a função idxmax. Fizemos o reset_index para resetarmos o índice do dataframe depois de tantas mudanças.\n",
    "\n",
    "Documentação:\n",
    "- groupby\n",
    "    - https://pandas.pydata.org/pandas-docs/stable/reference/api/pandas.DataFrame.groupby.html#pandas.DataFrame.groupby\n",
    "- idxmax\n",
    "    - https://pandas.pydata.org/pandas-docs/stable/reference/api/pandas.DataFrame.idxmax.html#pandas.DataFrame.idxmax"
   ]
  },
  {
   "cell_type": "code",
   "execution_count": 141,
   "id": "83b8ce06",
   "metadata": {},
   "outputs": [],
   "source": [
    "df1 = df1.loc[df1.groupby('App')['Installs'].idxmax()].reset_index(drop=True)"
   ]
  },
  {
   "cell_type": "markdown",
   "id": "ac3ce68d",
   "metadata": {},
   "source": [
    "Conferimos novamente a dimensão dos dados e constatamos que o número total de linhas foi afetado, mostrando que a eliminação de dados duplicados foi efetiva. Usamos a função duplicated() e sum() para conferir se há ainda dados duplicados no dataframe df1."
   ]
  },
  {
   "cell_type": "code",
   "execution_count": 142,
   "id": "0d3f54c2",
   "metadata": {},
   "outputs": [
    {
     "data": {
      "text/plain": [
       "(9660, 13)"
      ]
     },
     "execution_count": 142,
     "metadata": {},
     "output_type": "execute_result"
    }
   ],
   "source": [
    "df1.shape"
   ]
  },
  {
   "cell_type": "code",
   "execution_count": 143,
   "id": "4ce16505",
   "metadata": {},
   "outputs": [
    {
     "data": {
      "text/plain": [
       "np.int64(0)"
      ]
     },
     "execution_count": 143,
     "metadata": {},
     "output_type": "execute_result"
    }
   ],
   "source": [
    "df1.duplicated().sum()"
   ]
  },
  {
   "cell_type": "markdown",
   "id": "67e42ce8",
   "metadata": {},
   "source": [
    "## 2 - Faça um gráfico de barras contendo os top 5 apps por número de instalação;"
   ]
  },
  {
   "cell_type": "code",
   "execution_count": 148,
   "id": "c7f4deec",
   "metadata": {},
   "outputs": [],
   "source": [
    "df2 = df1.copy()"
   ]
  },
  {
   "cell_type": "code",
   "execution_count": 152,
   "id": "2715c200",
   "metadata": {},
   "outputs": [
    {
     "data": {
      "text/plain": [
       "Installs\n",
       "1000000       1417\n",
       "100000        1113\n",
       "10000         1030\n",
       "10000000       937\n",
       "1000           888\n",
       "100            709\n",
       "5000000        607\n",
       "500000         504\n",
       "50000          469\n",
       "5000           468\n",
       "10             385\n",
       "500            328\n",
       "50             204\n",
       "50000000       204\n",
       "100000000      189\n",
       "5               82\n",
       "1               67\n",
       "500000000       24\n",
       "1000000000      20\n",
       "0               15\n",
       "Name: count, dtype: int64"
      ]
     },
     "execution_count": 152,
     "metadata": {},
     "output_type": "execute_result"
    }
   ],
   "source": [
    "df2['Installs'].value_counts()"
   ]
  },
  {
   "cell_type": "markdown",
   "id": "b0f35b82",
   "metadata": {},
   "source": [
    "A limpeza e a conversão foi realizada na questão 1, vamos criar um dataframe auxiliar que vai conter uma lista ordenada com a função sort_values e que vai ser limitada a um top 5, selecionada com a função head, para daí e plotar o gráfico com a biblioteca Matplotlib.\n",
    "\n",
    "Em tempo, **essa seleção infelizmente não reflete o top 5 aplicativos por número de instalação**. E a razão é que a coluna 'Installs', apesar de ter sido limpa e tratada, ainda possui uma natureza categórica. Ela não traz informações detalhadas pelo número de Instalações e esse top 5 que trouxemos abaixo nada mais é que os **5 primeiros aplicativos em ordem alfabética** com o valor máximo na coluna Installs (a categoria de 1000000000 installs possui 20 apps contando com esses 5 abaixo). Esse é um problema que em uma situação real deve ser trazida e discutida com o time técnico e com o time de negócios. Para fins desse desafio, contudo, nós consideramos que a tarefa está feita dentro das nossas capacidades atuais:\n",
    "\n",
    "Documentação:\n",
    "- sort_values\n",
    "    - https://pandas.pydata.org/pandas-docs/stable/reference/api/pandas.DataFrame.sort_values.html#pandas.DataFrame.sort_values"
   ]
  },
  {
   "cell_type": "code",
   "execution_count": 153,
   "id": "e6b2c74a",
   "metadata": {},
   "outputs": [
    {
     "data": {
      "text/html": [
       "<div>\n",
       "<style scoped>\n",
       "    .dataframe tbody tr th:only-of-type {\n",
       "        vertical-align: middle;\n",
       "    }\n",
       "\n",
       "    .dataframe tbody tr th {\n",
       "        vertical-align: top;\n",
       "    }\n",
       "\n",
       "    .dataframe thead th {\n",
       "        text-align: right;\n",
       "    }\n",
       "</style>\n",
       "<table border=\"1\" class=\"dataframe\">\n",
       "  <thead>\n",
       "    <tr style=\"text-align: right;\">\n",
       "      <th></th>\n",
       "      <th>App</th>\n",
       "      <th>Category</th>\n",
       "      <th>Rating</th>\n",
       "      <th>Reviews</th>\n",
       "      <th>Size</th>\n",
       "      <th>Installs</th>\n",
       "      <th>Type</th>\n",
       "      <th>Price</th>\n",
       "      <th>Content Rating</th>\n",
       "      <th>Genres</th>\n",
       "      <th>Last Updated</th>\n",
       "      <th>Current Ver</th>\n",
       "      <th>Android Ver</th>\n",
       "    </tr>\n",
       "  </thead>\n",
       "  <tbody>\n",
       "    <tr>\n",
       "      <th>4328</th>\n",
       "      <td>Facebook</td>\n",
       "      <td>SOCIAL</td>\n",
       "      <td>4.1</td>\n",
       "      <td>78158306</td>\n",
       "      <td>Varies with device</td>\n",
       "      <td>1000000000</td>\n",
       "      <td>Free</td>\n",
       "      <td>0</td>\n",
       "      <td>Teen</td>\n",
       "      <td>Social</td>\n",
       "      <td>August 3, 2018</td>\n",
       "      <td>Varies with device</td>\n",
       "      <td>Varies with device</td>\n",
       "    </tr>\n",
       "    <tr>\n",
       "      <th>5399</th>\n",
       "      <td>Instagram</td>\n",
       "      <td>SOCIAL</td>\n",
       "      <td>4.5</td>\n",
       "      <td>66577313</td>\n",
       "      <td>Varies with device</td>\n",
       "      <td>1000000000</td>\n",
       "      <td>Free</td>\n",
       "      <td>0</td>\n",
       "      <td>Teen</td>\n",
       "      <td>Social</td>\n",
       "      <td>July 31, 2018</td>\n",
       "      <td>Varies with device</td>\n",
       "      <td>Varies with device</td>\n",
       "    </tr>\n",
       "    <tr>\n",
       "      <th>4924</th>\n",
       "      <td>Google Drive</td>\n",
       "      <td>PRODUCTIVITY</td>\n",
       "      <td>4.4</td>\n",
       "      <td>2731171</td>\n",
       "      <td>Varies with device</td>\n",
       "      <td>1000000000</td>\n",
       "      <td>Free</td>\n",
       "      <td>0</td>\n",
       "      <td>Everyone</td>\n",
       "      <td>Productivity</td>\n",
       "      <td>August 6, 2018</td>\n",
       "      <td>Varies with device</td>\n",
       "      <td>Varies with device</td>\n",
       "    </tr>\n",
       "    <tr>\n",
       "      <th>4940</th>\n",
       "      <td>Google Play Movies &amp; TV</td>\n",
       "      <td>VIDEO_PLAYERS</td>\n",
       "      <td>3.7</td>\n",
       "      <td>906384</td>\n",
       "      <td>Varies with device</td>\n",
       "      <td>1000000000</td>\n",
       "      <td>Free</td>\n",
       "      <td>0</td>\n",
       "      <td>Teen</td>\n",
       "      <td>Video Players &amp; Editors</td>\n",
       "      <td>August 6, 2018</td>\n",
       "      <td>Varies with device</td>\n",
       "      <td>Varies with device</td>\n",
       "    </tr>\n",
       "    <tr>\n",
       "      <th>4869</th>\n",
       "      <td>Gmail</td>\n",
       "      <td>COMMUNICATION</td>\n",
       "      <td>4.3</td>\n",
       "      <td>4604324</td>\n",
       "      <td>Varies with device</td>\n",
       "      <td>1000000000</td>\n",
       "      <td>Free</td>\n",
       "      <td>0</td>\n",
       "      <td>Everyone</td>\n",
       "      <td>Communication</td>\n",
       "      <td>August 2, 2018</td>\n",
       "      <td>Varies with device</td>\n",
       "      <td>Varies with device</td>\n",
       "    </tr>\n",
       "  </tbody>\n",
       "</table>\n",
       "</div>"
      ],
      "text/plain": [
       "                          App       Category Rating   Reviews  \\\n",
       "4328                 Facebook         SOCIAL    4.1  78158306   \n",
       "5399                Instagram         SOCIAL    4.5  66577313   \n",
       "4924             Google Drive   PRODUCTIVITY    4.4   2731171   \n",
       "4940  Google Play Movies & TV  VIDEO_PLAYERS    3.7    906384   \n",
       "4869                    Gmail  COMMUNICATION    4.3   4604324   \n",
       "\n",
       "                    Size    Installs  Type Price Content Rating  \\\n",
       "4328  Varies with device  1000000000  Free     0           Teen   \n",
       "5399  Varies with device  1000000000  Free     0           Teen   \n",
       "4924  Varies with device  1000000000  Free     0       Everyone   \n",
       "4940  Varies with device  1000000000  Free     0           Teen   \n",
       "4869  Varies with device  1000000000  Free     0       Everyone   \n",
       "\n",
       "                       Genres    Last Updated         Current Ver  \\\n",
       "4328                   Social  August 3, 2018  Varies with device   \n",
       "5399                   Social   July 31, 2018  Varies with device   \n",
       "4924             Productivity  August 6, 2018  Varies with device   \n",
       "4940  Video Players & Editors  August 6, 2018  Varies with device   \n",
       "4869            Communication  August 2, 2018  Varies with device   \n",
       "\n",
       "             Android Ver  \n",
       "4328  Varies with device  \n",
       "5399  Varies with device  \n",
       "4924  Varies with device  \n",
       "4940  Varies with device  \n",
       "4869  Varies with device  "
      ]
     },
     "execution_count": 153,
     "metadata": {},
     "output_type": "execute_result"
    }
   ],
   "source": [
    "df_aux = df2.sort_values('Installs', ascending=False).head()\n",
    "df_aux"
   ]
  },
  {
   "cell_type": "markdown",
   "id": "e41a3a40",
   "metadata": {},
   "source": [
    "Para plotar o gráfico em barras utilizamos a função figure para ajustar o tamanho do gráfico, bar para selecionar o gráfico em barras que é requisitado na questão, title para nomer o gráfico, xlaber e ylabel para nomear os eixos x e y, e show para plotar o gráfico final:\n",
    "\n",
    "- figure\n",
    "    - https://matplotlib.org/stable/api/_as_gen/matplotlib.pyplot.figure.html\n",
    "- bar\n",
    "    - https://matplotlib.org/stable/api/_as_gen/matplotlib.pyplot.bar.html#matplotlib.pyplot.bar\n",
    "- title\n",
    "    - https://matplotlib.org/stable/api/_as_gen/matplotlib.pyplot.title.html#matplotlib.pyplot.title\n",
    "- xlabel\n",
    "    - https://matplotlib.org/stable/api/_as_gen/matplotlib.pyplot.xlabel.html#matplotlib.pyplot.xlabel\n",
    "- ylabel\n",
    "    - https://matplotlib.org/stable/api/_as_gen/matplotlib.pyplot.ylabel.html#matplotlib.pyplot.ylabel\n",
    "- show\n",
    "    - https://matplotlib.org/stable/api/_as_gen/matplotlib.pyplot.show.html#matplotlib.pyplot.show"
   ]
  },
  {
   "cell_type": "code",
   "execution_count": 154,
   "id": "1714a92a",
   "metadata": {},
   "outputs": [
    {
     "data": {
      "image/png": "[encoded data removed]",
      "text/plain": [
       "<Figure size 1000x600 with 1 Axes>"
      ]
     },
     "metadata": {},
     "output_type": "display_data"
    }
   ],
   "source": [
    "plt.figure(figsize=(10, 6))\n",
    "plt.bar(df_aux['App'], df_aux['Installs'])\n",
    "plt.title('Número de Instalações por Aplicativo')\n",
    "plt.xlabel('Nome do Aplicativo')\n",
    "plt.ylabel('Contagem')\n",
    "plt.show()"
   ]
  },
  {
   "cell_type": "markdown",
   "id": "ec1924da",
   "metadata": {},
   "source": [
    "# Etapa 3\n",
    "## Faça um gráfico de pizza (pie chart) mostrando as categorias de apps existentes no dataset de acordo com a frequência em que elas aparecem;"
   ]
  },
  {
   "cell_type": "code",
   "execution_count": 155,
   "id": "352666c9",
   "metadata": {},
   "outputs": [],
   "source": [
    "df3 = df2.copy()"
   ]
  },
  {
   "cell_type": "markdown",
   "id": "6d21c183",
   "metadata": {},
   "source": []
  },
  {
   "cell_type": "code",
   "execution_count": null,
   "id": "d9737579",
   "metadata": {},
   "outputs": [
    {
     "data": {
      "image/png": "[encoded data removed]",
      "text/plain": [
       "<Figure size 1000x800 with 1 Axes>"
      ]
     },
     "metadata": {},
     "output_type": "display_data"
    }
   ],
   "source": [
    "df_aux = df3['Category'].value_counts()\n",
    "plt.figure(figsize=(10, 8))\n",
    "plt.pie(df_aux, labels=df_aux.index, autopct='%.1f%%')\n",
    "plt.title('Distribuição de Apps por Categoria')\n",
    "plt.show()"
   ]
  },
  {
   "cell_type": "markdown",
   "id": "6eaac381",
   "metadata": {},
   "source": []
  },
  {
   "cell_type": "code",
   "execution_count": 157,
   "id": "58815461",
   "metadata": {},
   "outputs": [
    {
     "data": {
      "text/plain": [
       "Category\n",
       "FAMILY                 1832\n",
       "GAME                    960\n",
       "TOOLS                   829\n",
       "BUSINESS                420\n",
       "MEDICAL                 395\n",
       "PERSONALIZATION         376\n",
       "PRODUCTIVITY            374\n",
       "LIFESTYLE               369\n",
       "FINANCE                 345\n",
       "SPORTS                  325\n",
       "COMMUNICATION           315\n",
       "HEALTH_AND_FITNESS      288\n",
       "PHOTOGRAPHY             281\n",
       "NEWS_AND_MAGAZINES      254\n",
       "SOCIAL                  239\n",
       "BOOKS_AND_REFERENCE     222\n",
       "TRAVEL_AND_LOCAL        219\n",
       "SHOPPING                202\n",
       "DATING                  170\n",
       "VIDEO_PLAYERS           163\n",
       "MAPS_AND_NAVIGATION     131\n",
       "EDUCATION               118\n",
       "FOOD_AND_DRINK          112\n",
       "ENTERTAINMENT           102\n",
       "AUTO_AND_VEHICLES        85\n",
       "LIBRARIES_AND_DEMO       84\n",
       "WEATHER                  79\n",
       "HOUSE_AND_HOME           73\n",
       "ART_AND_DESIGN           64\n",
       "EVENTS                   64\n",
       "PARENTING                60\n",
       "COMICS                   56\n",
       "BEAUTY                   53\n",
       "Name: count, dtype: int64"
      ]
     },
     "execution_count": 157,
     "metadata": {},
     "output_type": "execute_result"
    }
   ],
   "source": [
    "df_aux = df3.copy()\n",
    "df_aux['Category'].value_counts()"
   ]
  },
  {
   "cell_type": "code",
   "execution_count": 280,
   "id": "05448148",
   "metadata": {},
   "outputs": [
    {
     "data": {
      "image/png": "[encoded data removed]",
      "text/plain": [
       "<Figure size 1000x800 with 1 Axes>"
      ]
     },
     "metadata": {},
     "output_type": "display_data"
    }
   ],
   "source": [
    "contagem = aux['Category'].value_counts()\n",
    "\n",
    "categorias_principais = contagem[contagem >= 800].index\n",
    "\n",
    "aux['Categoria Agrupada'] = aux['Category'].apply(lambda x: x if x in categorias_principais else 'OUTROS')\n",
    "\n",
    "contagem_agrupada = aux['Categoria Agrupada'].value_counts()\n",
    "\n",
    "plt.figure(figsize=(10, 8))\n",
    "plt.pie(\n",
    "    contagem_agrupada,\n",
    "    labels=contagem_agrupada.index,\n",
    "    autopct='%.1f%%',\n",
    ")\n",
    "plt.title('Distribuição de Apps por Categoria')\n",
    "plt.axis('equal')\n",
    "plt.show()"
   ]
  },
  {
   "cell_type": "markdown",
   "id": "477001d2",
   "metadata": {},
   "source": [
    "# Etapa 4\n",
    "## Mostre qual o app mais caro existente no dataset;"
   ]
  },
  {
   "cell_type": "code",
   "execution_count": 281,
   "id": "f58e53c3",
   "metadata": {},
   "outputs": [],
   "source": [
    "df4 = df3.copy()"
   ]
  },
  {
   "cell_type": "code",
   "execution_count": 282,
   "id": "c83bb27e",
   "metadata": {},
   "outputs": [],
   "source": [
    "df4.loc[df4['Price'] == 'Free', 'Price'] = 0\n",
    "df4['Price'] = df4['Price'].str.replace('$', '').astype(float)"
   ]
  },
  {
   "cell_type": "code",
   "execution_count": 283,
   "id": "4e57db1d",
   "metadata": {},
   "outputs": [
    {
     "data": {
      "text/html": [
       "<div>\n",
       "<style scoped>\n",
       "    .dataframe tbody tr th:only-of-type {\n",
       "        vertical-align: middle;\n",
       "    }\n",
       "\n",
       "    .dataframe tbody tr th {\n",
       "        vertical-align: top;\n",
       "    }\n",
       "\n",
       "    .dataframe thead th {\n",
       "        text-align: right;\n",
       "    }\n",
       "</style>\n",
       "<table border=\"1\" class=\"dataframe\">\n",
       "  <thead>\n",
       "    <tr style=\"text-align: right;\">\n",
       "      <th></th>\n",
       "      <th>App</th>\n",
       "      <th>Category</th>\n",
       "      <th>Rating</th>\n",
       "      <th>Reviews</th>\n",
       "      <th>Size</th>\n",
       "      <th>Installs</th>\n",
       "      <th>Type</th>\n",
       "      <th>Price</th>\n",
       "      <th>Content Rating</th>\n",
       "      <th>Genres</th>\n",
       "      <th>Last Updated</th>\n",
       "      <th>Current Ver</th>\n",
       "      <th>Android Ver</th>\n",
       "    </tr>\n",
       "  </thead>\n",
       "  <tbody>\n",
       "    <tr>\n",
       "      <th>4367</th>\n",
       "      <td>I'm Rich - Trump Edition</td>\n",
       "      <td>LIFESTYLE</td>\n",
       "      <td>3.6</td>\n",
       "      <td>275</td>\n",
       "      <td>7.3M</td>\n",
       "      <td>10000</td>\n",
       "      <td>Paid</td>\n",
       "      <td>400.00</td>\n",
       "      <td>Everyone</td>\n",
       "      <td>Lifestyle</td>\n",
       "      <td>May 3, 2018</td>\n",
       "      <td>1.0.1</td>\n",
       "      <td>4.1 and up</td>\n",
       "    </tr>\n",
       "    <tr>\n",
       "      <th>5351</th>\n",
       "      <td>I am rich</td>\n",
       "      <td>LIFESTYLE</td>\n",
       "      <td>3.8</td>\n",
       "      <td>3547</td>\n",
       "      <td>1.8M</td>\n",
       "      <td>100000</td>\n",
       "      <td>Paid</td>\n",
       "      <td>399.99</td>\n",
       "      <td>Everyone</td>\n",
       "      <td>Lifestyle</td>\n",
       "      <td>January 12, 2018</td>\n",
       "      <td>2.0</td>\n",
       "      <td>4.0.3 and up</td>\n",
       "    </tr>\n",
       "    <tr>\n",
       "      <th>4362</th>\n",
       "      <td>💎 I'm rich</td>\n",
       "      <td>LIFESTYLE</td>\n",
       "      <td>3.8</td>\n",
       "      <td>718</td>\n",
       "      <td>26M</td>\n",
       "      <td>10000</td>\n",
       "      <td>Paid</td>\n",
       "      <td>399.99</td>\n",
       "      <td>Everyone</td>\n",
       "      <td>Lifestyle</td>\n",
       "      <td>March 11, 2018</td>\n",
       "      <td>1.0.0</td>\n",
       "      <td>4.4 and up</td>\n",
       "    </tr>\n",
       "    <tr>\n",
       "      <th>5356</th>\n",
       "      <td>I Am Rich Premium</td>\n",
       "      <td>FINANCE</td>\n",
       "      <td>4.1</td>\n",
       "      <td>1867</td>\n",
       "      <td>4.7M</td>\n",
       "      <td>50000</td>\n",
       "      <td>Paid</td>\n",
       "      <td>399.99</td>\n",
       "      <td>Everyone</td>\n",
       "      <td>Finance</td>\n",
       "      <td>November 12, 2017</td>\n",
       "      <td>1.6</td>\n",
       "      <td>4.0 and up</td>\n",
       "    </tr>\n",
       "    <tr>\n",
       "      <th>5358</th>\n",
       "      <td>I am Rich!</td>\n",
       "      <td>FINANCE</td>\n",
       "      <td>3.8</td>\n",
       "      <td>93</td>\n",
       "      <td>22M</td>\n",
       "      <td>1000</td>\n",
       "      <td>Paid</td>\n",
       "      <td>399.99</td>\n",
       "      <td>Everyone</td>\n",
       "      <td>Finance</td>\n",
       "      <td>December 11, 2017</td>\n",
       "      <td>1.0</td>\n",
       "      <td>4.1 and up</td>\n",
       "    </tr>\n",
       "  </tbody>\n",
       "</table>\n",
       "</div>"
      ],
      "text/plain": [
       "                           App   Category Rating Reviews  Size  Installs  \\\n",
       "4367  I'm Rich - Trump Edition  LIFESTYLE    3.6     275  7.3M     10000   \n",
       "5351                 I am rich  LIFESTYLE    3.8    3547  1.8M    100000   \n",
       "4362                💎 I'm rich  LIFESTYLE    3.8     718   26M     10000   \n",
       "5356         I Am Rich Premium    FINANCE    4.1    1867  4.7M     50000   \n",
       "5358                I am Rich!    FINANCE    3.8      93   22M      1000   \n",
       "\n",
       "      Type   Price Content Rating     Genres       Last Updated Current Ver  \\\n",
       "4367  Paid  400.00       Everyone  Lifestyle        May 3, 2018       1.0.1   \n",
       "5351  Paid  399.99       Everyone  Lifestyle   January 12, 2018         2.0   \n",
       "4362  Paid  399.99       Everyone  Lifestyle     March 11, 2018       1.0.0   \n",
       "5356  Paid  399.99       Everyone    Finance  November 12, 2017         1.6   \n",
       "5358  Paid  399.99       Everyone    Finance  December 11, 2017         1.0   \n",
       "\n",
       "       Android Ver  \n",
       "4367    4.1 and up  \n",
       "5351  4.0.3 and up  \n",
       "4362    4.4 and up  \n",
       "5356    4.0 and up  \n",
       "5358    4.1 and up  "
      ]
     },
     "execution_count": 283,
     "metadata": {},
     "output_type": "execute_result"
    }
   ],
   "source": [
    "df_aux2 = df4.sort_values('Price', ascending=False).head()\n",
    "df_aux2"
   ]
  },
  {
   "cell_type": "code",
   "execution_count": 284,
   "id": "89752922",
   "metadata": {},
   "outputs": [
    {
     "data": {
      "text/html": [
       "<div>\n",
       "<style scoped>\n",
       "    .dataframe tbody tr th:only-of-type {\n",
       "        vertical-align: middle;\n",
       "    }\n",
       "\n",
       "    .dataframe tbody tr th {\n",
       "        vertical-align: top;\n",
       "    }\n",
       "\n",
       "    .dataframe thead th {\n",
       "        text-align: right;\n",
       "    }\n",
       "</style>\n",
       "<table border=\"1\" class=\"dataframe\">\n",
       "  <thead>\n",
       "    <tr style=\"text-align: right;\">\n",
       "      <th></th>\n",
       "      <th>App</th>\n",
       "      <th>Category</th>\n",
       "      <th>Rating</th>\n",
       "      <th>Reviews</th>\n",
       "      <th>Size</th>\n",
       "      <th>Installs</th>\n",
       "      <th>Type</th>\n",
       "      <th>Price</th>\n",
       "      <th>Content Rating</th>\n",
       "      <th>Genres</th>\n",
       "      <th>Last Updated</th>\n",
       "      <th>Current Ver</th>\n",
       "      <th>Android Ver</th>\n",
       "    </tr>\n",
       "  </thead>\n",
       "  <tbody>\n",
       "    <tr>\n",
       "      <th>4367</th>\n",
       "      <td>I'm Rich - Trump Edition</td>\n",
       "      <td>LIFESTYLE</td>\n",
       "      <td>3.6</td>\n",
       "      <td>275</td>\n",
       "      <td>7.3M</td>\n",
       "      <td>10000</td>\n",
       "      <td>Paid</td>\n",
       "      <td>400.0</td>\n",
       "      <td>Everyone</td>\n",
       "      <td>Lifestyle</td>\n",
       "      <td>May 3, 2018</td>\n",
       "      <td>1.0.1</td>\n",
       "      <td>4.1 and up</td>\n",
       "    </tr>\n",
       "  </tbody>\n",
       "</table>\n",
       "</div>"
      ],
      "text/plain": [
       "                           App   Category Rating Reviews  Size  Installs  \\\n",
       "4367  I'm Rich - Trump Edition  LIFESTYLE    3.6     275  7.3M     10000   \n",
       "\n",
       "      Type  Price Content Rating     Genres Last Updated Current Ver  \\\n",
       "4367  Paid  400.0       Everyone  Lifestyle  May 3, 2018       1.0.1   \n",
       "\n",
       "     Android Ver  \n",
       "4367  4.1 and up  "
      ]
     },
     "execution_count": 284,
     "metadata": {},
     "output_type": "execute_result"
    }
   ],
   "source": [
    "df4.loc[df4['Price'] == df4['Price'].max()]\n"
   ]
  },
  {
   "cell_type": "markdown",
   "id": "9884d12d",
   "metadata": {},
   "source": [
    "# Etapa 5\n",
    "## Mostre quantos apps são classificados como '**Mature 17**';"
   ]
  },
  {
   "cell_type": "code",
   "execution_count": 285,
   "id": "bbf522ce",
   "metadata": {},
   "outputs": [],
   "source": [
    "df5 = df4.copy()"
   ]
  },
  {
   "cell_type": "code",
   "execution_count": null,
   "id": "f766337f",
   "metadata": {},
   "outputs": [
    {
     "name": "stdout",
     "output_type": "stream",
     "text": [
      "447 apps tem o Content Rating Mature 17+.\n"
     ]
    }
   ],
   "source": [
    "contagem = (df5['Content Rating'] == 'Mature 17+').sum()\n",
    "print(f'{contagem} apps têm o Content Rating Mature 17+.')"
   ]
  },
  {
   "cell_type": "markdown",
   "id": "cd905c64",
   "metadata": {},
   "source": [
    "# Etapa 6\n",
    "## Mostre o top 10 apps por número de reviews bem como o respectivo número de reviews. Ordene a lista de forma decrescente por número de reviews;"
   ]
  },
  {
   "cell_type": "code",
   "execution_count": 287,
   "id": "4539095a",
   "metadata": {},
   "outputs": [],
   "source": [
    "df6 = df5.copy()"
   ]
  },
  {
   "cell_type": "code",
   "execution_count": 288,
   "id": "46e0694b",
   "metadata": {},
   "outputs": [],
   "source": [
    "df6['Reviews'] = df6['Reviews'].astype(int)"
   ]
  },
  {
   "cell_type": "code",
   "execution_count": 294,
   "id": "08925182",
   "metadata": {},
   "outputs": [
    {
     "data": {
      "text/html": [
       "<div>\n",
       "<style scoped>\n",
       "    .dataframe tbody tr th:only-of-type {\n",
       "        vertical-align: middle;\n",
       "    }\n",
       "\n",
       "    .dataframe tbody tr th {\n",
       "        vertical-align: top;\n",
       "    }\n",
       "\n",
       "    .dataframe thead th {\n",
       "        text-align: right;\n",
       "    }\n",
       "</style>\n",
       "<table border=\"1\" class=\"dataframe\">\n",
       "  <thead>\n",
       "    <tr style=\"text-align: right;\">\n",
       "      <th></th>\n",
       "      <th>App</th>\n",
       "      <th>Reviews</th>\n",
       "    </tr>\n",
       "  </thead>\n",
       "  <tbody>\n",
       "    <tr>\n",
       "      <th>0</th>\n",
       "      <td>Messenger – Text and Video Chat for Free</td>\n",
       "      <td>56642847</td>\n",
       "    </tr>\n",
       "    <tr>\n",
       "      <th>1</th>\n",
       "      <td>WhatsApp Messenger</td>\n",
       "      <td>69119316</td>\n",
       "    </tr>\n",
       "    <tr>\n",
       "      <th>2</th>\n",
       "      <td>Messenger – Text and Video Chat for Free</td>\n",
       "      <td>56646578</td>\n",
       "    </tr>\n",
       "    <tr>\n",
       "      <th>3</th>\n",
       "      <td>Clash of Clans</td>\n",
       "      <td>44893888</td>\n",
       "    </tr>\n",
       "    <tr>\n",
       "      <th>4</th>\n",
       "      <td>Facebook</td>\n",
       "      <td>78158306</td>\n",
       "    </tr>\n",
       "    <tr>\n",
       "      <th>5</th>\n",
       "      <td>Instagram</td>\n",
       "      <td>66577313</td>\n",
       "    </tr>\n",
       "    <tr>\n",
       "      <th>6</th>\n",
       "      <td>Instagram</td>\n",
       "      <td>66577446</td>\n",
       "    </tr>\n",
       "    <tr>\n",
       "      <th>7</th>\n",
       "      <td>WhatsApp Messenger</td>\n",
       "      <td>69109672</td>\n",
       "    </tr>\n",
       "    <tr>\n",
       "      <th>8</th>\n",
       "      <td>Instagram</td>\n",
       "      <td>66509917</td>\n",
       "    </tr>\n",
       "    <tr>\n",
       "      <th>9</th>\n",
       "      <td>Facebook</td>\n",
       "      <td>78128208</td>\n",
       "    </tr>\n",
       "  </tbody>\n",
       "</table>\n",
       "</div>"
      ],
      "text/plain": [
       "                                        App   Reviews\n",
       "0  Messenger – Text and Video Chat for Free  56642847\n",
       "1                        WhatsApp Messenger  69119316\n",
       "2  Messenger – Text and Video Chat for Free  56646578\n",
       "3                            Clash of Clans  44893888\n",
       "4                                  Facebook  78158306\n",
       "5                                 Instagram  66577313\n",
       "6                                 Instagram  66577446\n",
       "7                        WhatsApp Messenger  69109672\n",
       "8                                 Instagram  66509917\n",
       "9                                  Facebook  78128208"
      ]
     },
     "execution_count": 294,
     "metadata": {},
     "output_type": "execute_result"
    }
   ],
   "source": [
    "df_aux = df6.sort_values('Reviews', ascending=False).head(10).sort_index().reset_index(drop=True)\n",
    "df_aux[['App', 'Reviews']]"
   ]
  },
  {
   "cell_type": "markdown",
   "id": "9aeeb45b",
   "metadata": {},
   "source": [
    "# Etapa 7\n",
    "## Crie pelo menos mais 2 cálculos sobre o dataset e apresente um em formato de lista e outro em formato de valor. Por exemplo: \"top 10 apps por número de reviews\" e \"o app mais caro existente no dataset\";"
   ]
  },
  {
   "cell_type": "markdown",
   "id": "7a2cc797",
   "metadata": {},
   "source": [
    "### Formato de Lista"
   ]
  },
  {
   "cell_type": "markdown",
   "id": "6ef5833c",
   "metadata": {},
   "source": [
    "### Formato de Valor"
   ]
  },
  {
   "cell_type": "markdown",
   "id": "3f863a7e",
   "metadata": {},
   "source": [
    "# Etapa 8\n",
    "## Crie pelo menos outras 2 formas gráficas de exibição dos indicadores acima utilizando a biblioteca **Matplotlib**."
   ]
  }
 ],
 "metadata": {
  "kernelspec": {
   "display_name": "compass_uol",
   "language": "python",
   "name": "python3"
  },
  "language_info": {
   "codemirror_mode": {
    "name": "ipython",
    "version": 3
   },
   "file_extension": ".py",
   "mimetype": "text/x-python",
   "name": "python",
   "nbconvert_exporter": "python",
   "pygments_lexer": "ipython3",
   "version": "3.12.2"
  }
 },
 "nbformat": 4,
 "nbformat_minor": 5
}
